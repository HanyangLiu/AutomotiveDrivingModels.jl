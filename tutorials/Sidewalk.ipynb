{
 "cells": [
  {
   "cell_type": "markdown",
   "metadata": {},
   "source": [
    "# Sidewalk"
   ]
  },
  {
   "cell_type": "markdown",
   "metadata": {},
   "source": [
    "In this notebook, we will be creating a sidewalk environment in which pedestrians can walk along the sidewalk and cross the street as cars pass."
   ]
  },
  {
   "cell_type": "code",
   "execution_count": 1,
   "metadata": {
    "scrolled": false
   },
   "outputs": [
    {
     "data": {
      "text/html": [
       "    <script class='js-collapse-script'>\n",
       "        var curMatch =\n",
       "            window.location.href\n",
       "            .match(/(.*?)\\/notebooks\\/.*\\.ipynb/);\n",
       "\n",
       "        curMatch = curMatch ||\n",
       "            window.location.href\n",
       "            .match(/(.*?)\\/apps\\/.*\\.ipynb/);\n",
       "\n",
       "        if ( curMatch ) {\n",
       "            $('head').append('<base href=\"' + curMatch[1] + '/\">');\n",
       "        }\n",
       "    </script>\n"
      ],
      "text/plain": [
       "HTML{String}(\"    <script class='js-collapse-script'>\\n        var curMatch =\\n            window.location.href\\n            .match(/(.*?)\\\\/notebooks\\\\/.*\\\\.ipynb/);\\n\\n        curMatch = curMatch ||\\n            window.location.href\\n            .match(/(.*?)\\\\/apps\\\\/.*\\\\.ipynb/);\\n\\n        if ( curMatch ) {\\n            \\$('head').append('<base href=\\\"' + curMatch[1] + '/\\\">');\\n        }\\n    </script>\\n\")"
      ]
     },
     "metadata": {},
     "output_type": "display_data"
    },
    {
     "data": {
      "text/html": [
       "<script class='js-collapse-script' src='/assetserver/d6ef759653977473236b6b5b4aa24c601d804f35-assets/webio/dist/bundle.js'></script>"
      ],
      "text/plain": [
       "HTML{String}(\"<script class='js-collapse-script' src='/assetserver/d6ef759653977473236b6b5b4aa24c601d804f35-assets/webio/dist/bundle.js'></script>\")"
      ]
     },
     "metadata": {},
     "output_type": "display_data"
    },
    {
     "data": {
      "text/html": [
       "<script class='js-collapse-script' src='/assetserver/d6ef759653977473236b6b5b4aa24c601d804f35-assets/providers/ijulia_setup.js'></script>"
      ],
      "text/plain": [
       "HTML{String}(\"<script class='js-collapse-script' src='/assetserver/d6ef759653977473236b6b5b4aa24c601d804f35-assets/providers/ijulia_setup.js'></script>\")"
      ]
     },
     "metadata": {},
     "output_type": "display_data"
    },
    {
     "data": {
      "text/html": [
       "  <script class='js-collapse-script'>\n",
       "    $('.js-collapse-script').parent('.output_subarea').css('padding', '0');\n",
       "  </script>\n"
      ],
      "text/plain": [
       "HTML{String}(\"  <script class='js-collapse-script'>\\n    \\$('.js-collapse-script').parent('.output_subarea').css('padding', '0');\\n  </script>\\n\")"
      ]
     },
     "metadata": {},
     "output_type": "display_data"
    }
   ],
   "source": [
    "using Parameters\n",
    "using AutomotiveDrivingModels\n",
    "using AutoViz\n",
    "using Interact"
   ]
  },
  {
   "cell_type": "code",
   "execution_count": 2,
   "metadata": {},
   "outputs": [
    {
     "data": {
      "text/plain": [
       "2"
      ]
     },
     "execution_count": 2,
     "metadata": {},
     "output_type": "execute_result"
    }
   ],
   "source": [
    "# Define sidewalk IDs\n",
    "const TOP = 1\n",
    "const BOTTOM = 2"
   ]
  },
  {
   "cell_type": "markdown",
   "metadata": {},
   "source": [
    "### Creating the Environment\n",
    "Here, we create a new type of environment called SidewalkEnv. It consists of a roadway, crosswalk, and sidewalk. A sidewalk is a Vector of Lanes that run alongside the road."
   ]
  },
  {
   "cell_type": "code",
   "execution_count": 3,
   "metadata": {},
   "outputs": [
    {
     "data": {
      "text/plain": [
       "SidewalkEnv"
      ]
     },
     "execution_count": 3,
     "metadata": {},
     "output_type": "execute_result"
    }
   ],
   "source": [
    "@with_kw mutable struct SidewalkEnv\n",
    "    roadway::Roadway\n",
    "    crosswalk::Lane\n",
    "    sidewalk::Vector{Lane}\n",
    "end"
   ]
  },
  {
   "cell_type": "markdown",
   "metadata": {},
   "source": [
    "#### Defining the Sidewalk\n",
    "We define the sidewalk's parameters."
   ]
  },
  {
   "cell_type": "code",
   "execution_count": 4,
   "metadata": {},
   "outputs": [
    {
     "data": {
      "text/plain": [
       "6.0"
      ]
     },
     "execution_count": 4,
     "metadata": {},
     "output_type": "execute_result"
    }
   ],
   "source": [
    "# Geometry parameters\n",
    "roadway_length = 100.\n",
    "crosswalk_length = 15.\n",
    "crosswalk_width = 6.0\n",
    "crosswalk_pos = roadway_length/2\n",
    "sidewalk_width = 3.0\n",
    "sidewalk_pos = crosswalk_length/2 - sidewalk_width / 2"
   ]
  },
  {
   "cell_type": "markdown",
   "metadata": {},
   "source": [
    "Now we create the sidewalk environment. \n",
    "Our environment will consist of:\n",
    "* 1-way road with 2 lanes\n",
    "* Unsignalized zebra crosswalk perpendicular to the road\n",
    "* Sidewalks above and below the road"
   ]
  },
  {
   "cell_type": "code",
   "execution_count": 5,
   "metadata": {},
   "outputs": [],
   "source": [
    "# Generate straight roadway of length roadway_length with 2 lanes.\n",
    "# Returns a Roadway type (Array of segments).\n",
    "# There is already a method to generate a simple straight roadway, which we use here.\n",
    "roadway = gen_straight_roadway(2, roadway_length) \n",
    "\n",
    "# Generate the crosswalk.\n",
    "# Our crosswalk does not have a predefined method for generation, so we define it with a LaneTag and a curve.\n",
    "n_samples = 2 # for curve generation\n",
    "crosswalk = Lane(LaneTag(2,1), gen_straight_curve(VecE2(crosswalk_pos, -crosswalk_length/2),\n",
    "                                                  VecE2(crosswalk_pos, crosswalk_length/2),\n",
    "                                                   n_samples), width = crosswalk_width)\n",
    "cw_segment = RoadSegment(2, [crosswalk])\n",
    "push!(roadway.segments, cw_segment) # Append the crosswalk to the roadway\n",
    "\n",
    "# Generate the sidewalk.\n",
    "top_sidewalk = Lane(LaneTag(3, TOP), gen_straight_curve(VecE2(0., sidewalk_pos),\n",
    "                                                      VecE2(roadway_length, sidewalk_pos),\n",
    "                                                        n_samples), width = sidewalk_width)\n",
    "bottom_sidewalk = Lane(LaneTag(3, BOTTOM), gen_straight_curve(VecE2(0., -(sidewalk_pos - sidewalk_width)),\n",
    "                                                          VecE2(roadway_length, -(sidewalk_pos - sidewalk_width)),\n",
    "                                                            n_samples), width = sidewalk_width) \n",
    "    # Note: we subtract the sidewalk_width from the sidewalk position so that the edge is flush with the road.\n",
    "\n",
    "\n",
    "sw_segment = RoadSegment(3, [top_sidewalk, bottom_sidewalk])\n",
    "push!(roadway.segments, sw_segment)\n",
    "\n",
    "# Initialize crosswalk environment\n",
    "env = SidewalkEnv(roadway, crosswalk, [top_sidewalk, bottom_sidewalk]);"
   ]
  },
  {
   "cell_type": "markdown",
   "metadata": {},
   "source": [
    "Since there is no defined render! method for the crosswalk and the sidewalk, we must define it ourselves."
   ]
  },
  {
   "cell_type": "code",
   "execution_count": 6,
   "metadata": {},
   "outputs": [],
   "source": [
    "function AutoViz.render!(rendermodel::RenderModel, env::SidewalkEnv)\n",
    "    # Render sidewalk\n",
    "    for sw in env.sidewalk\n",
    "        curve = sw.curve\n",
    "        n = length(curve)\n",
    "        pts = Array{Float64}(undef, 2, n)\n",
    "        for (i,pt) in enumerate(curve)\n",
    "            pts[1,i] = pt.pos.x\n",
    "            pts[2,i] = pt.pos.y\n",
    "        end\n",
    "        add_instruction!(rendermodel, render_line, (pts, colorant\"grey\", sw.width, Cairo.CAIRO_LINE_CAP_BUTT))\n",
    "    end\n",
    "    \n",
    "    # Render roadway\n",
    "    roadway = gen_straight_roadway(2, roadway_length)\n",
    "    render!(rendermodel, roadway)\n",
    "    \n",
    "    # Render crosswalk\n",
    "    curve = env.crosswalk.curve\n",
    "    n = length(curve)\n",
    "    pts = Array{Float64}(undef, 2, n)\n",
    "    for (i,pt) in enumerate(curve)\n",
    "        pts[1,i] = pt.pos.x\n",
    "        pts[2,i] = pt.pos.y\n",
    "    end\n",
    "\n",
    "    # We can add render instructions from AutoViz.\n",
    "    # Here we want the crosswalk to appear as a white-striped zebra crossing rather than a road.\n",
    "    add_instruction!(rendermodel, render_dashed_line, (pts, colorant\"white\", env.crosswalk.width, 1.0, 1.0, 0.0, Cairo.CAIRO_LINE_CAP_BUTT))\n",
    "\n",
    "    return rendermodel\n",
    "end"
   ]
  },
  {
   "cell_type": "code",
   "execution_count": 7,
   "metadata": {},
   "outputs": [],
   "source": [
    "cam = FitToContentCamera(0.0)\n",
    "render(Scene(), env, cam = cam);"
   ]
  },
  {
   "cell_type": "markdown",
   "metadata": {},
   "source": [
    "Now we can define our pedestrian."
   ]
  },
  {
   "cell_type": "code",
   "execution_count": 8,
   "metadata": {},
   "outputs": [
    {
     "data": {
      "text/plain": [
       "VehicleDef(PEDESTRIAN, 1.000, 1.000)"
      ]
     },
     "execution_count": 8,
     "metadata": {},
     "output_type": "execute_result"
    }
   ],
   "source": [
    "# We define its class and the dimensions of its bounding box.\n",
    "const PEDESTRIAN_DEF = VehicleDef(AgentClass.PEDESTRIAN, 1.0, 1.0)"
   ]
  },
  {
   "cell_type": "markdown",
   "metadata": {},
   "source": [
    "We assign models to each agent in the scene."
   ]
  },
  {
   "cell_type": "code",
   "execution_count": 9,
   "metadata": {
    "scrolled": false
   },
   "outputs": [
    {
     "data": {
      "text/plain": [
       "LatLonSeparableDriver(ProportionalLaneTracker(NaN, NaN, 3.0, 2.0), IntelligentDriverModel\n",
       "  a: Float64 NaN\n",
       "  σ: Float64 NaN\n",
       "  k_spd: Float64 1.0\n",
       "  δ: Float64 4.0\n",
       "  T: Float64 1.5\n",
       "  v_des: Float64 29.0\n",
       "  s_min: Float64 5.0\n",
       "  a_max: Float64 3.0\n",
       "  d_cmf: Float64 2.0\n",
       "  d_max: Float64 9.0\n",
       ")"
      ]
     },
     "execution_count": 9,
     "metadata": {},
     "output_type": "execute_result"
    }
   ],
   "source": [
    "timestep = 0.1\n",
    "\n",
    "# Crossing pedestrian definition\n",
    "ped_init_state = VehicleState(VecSE2(49.0,-3.0,0.), env.sidewalk[BOTTOM], roadway, 1.3)\n",
    "ped = Vehicle(ped_init_state, PEDESTRIAN_DEF, 1)\n",
    "\n",
    "# Car definition\n",
    "car_initial_state = VehicleState(VecSE2(0.0, 0., 0.), roadway.segments[1].lanes[1],roadway, 8.0)\n",
    "car = Vehicle(car_initial_state, VehicleDef(), 2)\n",
    "\n",
    "scene = Scene()\n",
    "push!(scene, ped)\n",
    "push!(scene, car)\n",
    "\n",
    "# Define a model for each entity present in the scene\n",
    "models = Dict{Int, DriverModel}()\n",
    "\n",
    "ped_id = 1\n",
    "car_id = 2\n",
    "\n",
    "models[ped_id] = SidewalkPedestrianModel(timestep=timestep, \n",
    "                                            crosswalk=env.crosswalk,\n",
    "                                            sw_origin = env.sidewalk[BOTTOM],\n",
    "                                            sw_dest = env.sidewalk[TOP]\n",
    "                                            )\n",
    "\n",
    "models[car_id] = \n",
    "LatLonSeparableDriver( # produces LatLonAccels\n",
    "        ProportionalLaneTracker(), # lateral model\n",
    "        IntelligentDriverModel(), # longitudinal model\n",
    ")"
   ]
  },
  {
   "cell_type": "markdown",
   "metadata": {},
   "source": [
    "### Simulate\n",
    "Finally, we simulate the scene."
   ]
  },
  {
   "cell_type": "code",
   "execution_count": 10,
   "metadata": {},
   "outputs": [
    {
     "data": {
      "image/png": "[encoded data removed]",
      "text/plain": [
       "Cairo.CairoSurfaceBase{UInt32}(Ptr{Nothing} @0x0000000021d4acf0, 1000.0, 600.0)"
      ]
     },
     "execution_count": 10,
     "metadata": {},
     "output_type": "execute_result"
    }
   ],
   "source": [
    "nticks = 300\n",
    "rec = SceneRecord(nticks+1, timestep)\n",
    "# Execute the simulation\n",
    "simulate!(rec, scene, roadway, models, nticks)\n",
    "render(rec[0], env, cam=cam)"
   ]
  },
  {
   "cell_type": "markdown",
   "metadata": {},
   "source": [
    "We can use a slider to scroll through each frame in the simulation. This usually takes less time than rendering a video."
   ]
  },
  {
   "cell_type": "code",
   "execution_count": 11,
   "metadata": {},
   "outputs": [
    {
     "data": {
      "text/html": [
       "<div class='tex2jax_ignore interactbulma'>\n",
       "<div class='display:none'></div><unsafe-script style='display:none'>\n",
       "WebIO.mount(this.previousSibling,{&quot;props&quot;:{},&quot;nodeType&quot;:&quot;DOM&quot;,&quot;type&quot;:&quot;node&quot;,&quot;instanceArgs&quot;:{&quot;namespace&quot;:&quot;html&quot;,&quot;tag&quot;:&quot;div&quot;},&quot;children&quot;:[{&quot;props&quot;:{&quot;className&quot;:&quot;field&quot;},&quot;nodeType&quot;:&quot;DOM&quot;,&quot;type&quot;:&quot;node&quot;,&quot;instanceArgs&quot;:{&quot;namespace&quot;:&quot;html&quot;,&quot;tag&quot;:&quot;div&quot;},&quot;children&quot;:[{&quot;props&quot;:{},&quot;nodeType&quot;:&quot;Scope&quot;,&quot;type&quot;:&quot;node&quot;,&quot;instanceArgs&quot;:{&quot;imports&quot;:{&quot;data&quot;:[{&quot;name&quot;:&quot;knockout&quot;,&quot;type&quot;:&quot;js&quot;,&quot;url&quot;:&quot;/assetserver/7727d7cb3453b9ff588804f2f297360e756850e6-knockout.js&quot;},{&quot;name&quot;:&quot;knockout_punches&quot;,&quot;type&quot;:&quot;js&quot;,&quot;url&quot;:&quot;/assetserver/dc191505b241da77a1bd06986b7132036babe315-knockout_punches.js&quot;},{&quot;name&quot;:null,&quot;type&quot;:&quot;js&quot;,&quot;url&quot;:&quot;/assetserver/cf39e83f3445855334efae1f7d0ee012952fe319-all.js&quot;},{&quot;name&quot;:null,&quot;type&quot;:&quot;css&quot;,&quot;url&quot;:&quot;/assetserver/495af69608d773e6cf6efd8fe98ee33ddbad0df5-style.css&quot;},{&quot;name&quot;:null,&quot;type&quot;:&quot;css&quot;,&quot;url&quot;:&quot;/assetserver/9d22e7e1c4dccb3a3bef6ae4d24134fd256d4bfd-main.css&quot;}],&quot;type&quot;:&quot;async_block&quot;},&quot;id&quot;:&quot;knockout-component-fddc2108-64dc-441f-be9a-4530cb07f790&quot;,&quot;handlers&quot;:{&quot;_promises&quot;:{&quot;importsLoaded&quot;:[function (ko, koPunches) {\n",
       "    ko.punches.enableAll();\n",
       "    ko.bindingHandlers.numericValue = {\n",
       "        init : function(element, valueAccessor, allBindings, data, context) {\n",
       "            var stringified = ko.observable(ko.unwrap(valueAccessor()));\n",
       "            stringified.subscribe(function(value) {\n",
       "                var val = parseFloat(value);\n",
       "                if (!isNaN(val)) {\n",
       "                    valueAccessor()(val);\n",
       "                }\n",
       "            })\n",
       "            valueAccessor().subscribe(function(value) {\n",
       "                var str = JSON.stringify(value);\n",
       "                if ((str == &quot;0&quot;) &amp;&amp; ([&quot;-0&quot;, &quot;-0.&quot;].indexOf(stringified()) &gt;= 0))\n",
       "                     return;\n",
       "                 if ([&quot;null&quot;, &quot;&quot;].indexOf(str) &gt;= 0)\n",
       "                     return;\n",
       "                stringified(str);\n",
       "            })\n",
       "            ko.applyBindingsToNode(element, { value: stringified, valueUpdate: allBindings.get(&#39;valueUpdate&#39;)}, context);\n",
       "        }\n",
       "    };\n",
       "    var json_data = JSON.parse(&quot;{\\&quot;changes\\&quot;:0,\\&quot;value\\&quot;:151}&quot;);\n",
       "    var self = this;\n",
       "    function AppViewModel() {\n",
       "        for (var key in json_data) {\n",
       "            var el = json_data[key];\n",
       "            this[key] = Array.isArray(el) ? ko.observableArray(el) : ko.observable(el);\n",
       "        }\n",
       "        \n",
       "        \n",
       "        [this[&quot;changes&quot;].subscribe((function (val){!(this.valueFromJulia[&quot;changes&quot;]) ? (WebIO.setval({&quot;name&quot;:&quot;changes&quot;,&quot;scope&quot;:&quot;knockout-component-fddc2108-64dc-441f-be9a-4530cb07f790&quot;,&quot;id&quot;:&quot;ob_02&quot;,&quot;type&quot;:&quot;observable&quot;},val)) : undefined; return this.valueFromJulia[&quot;changes&quot;]=false}),self),this[&quot;value&quot;].subscribe((function (val){!(this.valueFromJulia[&quot;value&quot;]) ? (WebIO.setval({&quot;name&quot;:&quot;value&quot;,&quot;scope&quot;:&quot;knockout-component-fddc2108-64dc-441f-be9a-4530cb07f790&quot;,&quot;id&quot;:&quot;ob_01&quot;,&quot;type&quot;:&quot;observable&quot;},val)) : undefined; return this.valueFromJulia[&quot;value&quot;]=false}),self)]\n",
       "        \n",
       "    }\n",
       "    self.model = new AppViewModel();\n",
       "    self.valueFromJulia = {};\n",
       "    for (var key in json_data) {\n",
       "        self.valueFromJulia[key] = false;\n",
       "    }\n",
       "    ko.applyBindings(self.model, self.dom);\n",
       "}\n",
       "]},&quot;changes&quot;:[(function (val){return (val!=this.model[&quot;changes&quot;]()) ? (this.valueFromJulia[&quot;changes&quot;]=true, this.model[&quot;changes&quot;](val)) : undefined})],&quot;value&quot;:[(function (val){return (val!=this.model[&quot;value&quot;]()) ? (this.valueFromJulia[&quot;value&quot;]=true, this.model[&quot;value&quot;](val)) : undefined})]},&quot;systemjs_options&quot;:null,&quot;observables&quot;:{&quot;changes&quot;:{&quot;sync&quot;:false,&quot;id&quot;:&quot;ob_02&quot;,&quot;value&quot;:0},&quot;value&quot;:{&quot;sync&quot;:true,&quot;id&quot;:&quot;ob_01&quot;,&quot;value&quot;:151}}},&quot;children&quot;:[{&quot;props&quot;:{&quot;attributes&quot;:{&quot;style&quot;:&quot;display:flex; justify-content:center; align-items:center;&quot;}},&quot;nodeType&quot;:&quot;DOM&quot;,&quot;type&quot;:&quot;node&quot;,&quot;instanceArgs&quot;:{&quot;namespace&quot;:&quot;html&quot;,&quot;tag&quot;:&quot;div&quot;},&quot;children&quot;:[{&quot;props&quot;:{&quot;attributes&quot;:{&quot;style&quot;:&quot;text-align:right;width:18%&quot;}},&quot;nodeType&quot;:&quot;DOM&quot;,&quot;type&quot;:&quot;node&quot;,&quot;instanceArgs&quot;:{&quot;namespace&quot;:&quot;html&quot;,&quot;tag&quot;:&quot;div&quot;},&quot;children&quot;:[{&quot;props&quot;:{&quot;className&quot;:&quot;interact &quot;,&quot;style&quot;:{&quot;padding&quot;:&quot;5px 10px 0px 10px&quot;}},&quot;nodeType&quot;:&quot;DOM&quot;,&quot;type&quot;:&quot;node&quot;,&quot;instanceArgs&quot;:{&quot;namespace&quot;:&quot;html&quot;,&quot;tag&quot;:&quot;label&quot;},&quot;children&quot;:[&quot;frame_index&quot;]}]},{&quot;props&quot;:{&quot;attributes&quot;:{&quot;style&quot;:&quot;flex-grow:1; margin: 0 2%&quot;}},&quot;nodeType&quot;:&quot;DOM&quot;,&quot;type&quot;:&quot;node&quot;,&quot;instanceArgs&quot;:{&quot;namespace&quot;:&quot;html&quot;,&quot;tag&quot;:&quot;div&quot;},&quot;children&quot;:[{&quot;props&quot;:{&quot;max&quot;:301,&quot;min&quot;:1,&quot;attributes&quot;:{&quot;type&quot;:&quot;range&quot;,&quot;data-bind&quot;:&quot;numericValue: value, valueUpdate: &#39;input&#39;, event: {change : function () {this.changes(this.changes()+1)}}&quot;,&quot;orient&quot;:&quot;horizontal&quot;},&quot;step&quot;:1,&quot;className&quot;:&quot;slider slider is-fullwidth&quot;,&quot;style&quot;:{}},&quot;nodeType&quot;:&quot;DOM&quot;,&quot;type&quot;:&quot;node&quot;,&quot;instanceArgs&quot;:{&quot;namespace&quot;:&quot;html&quot;,&quot;tag&quot;:&quot;input&quot;},&quot;children&quot;:[]}]},{&quot;props&quot;:{&quot;attributes&quot;:{&quot;style&quot;:&quot;width:18%&quot;}},&quot;nodeType&quot;:&quot;DOM&quot;,&quot;type&quot;:&quot;node&quot;,&quot;instanceArgs&quot;:{&quot;namespace&quot;:&quot;html&quot;,&quot;tag&quot;:&quot;div&quot;},&quot;children&quot;:[{&quot;props&quot;:{&quot;attributes&quot;:{&quot;data-bind&quot;:&quot;text: value&quot;}},&quot;nodeType&quot;:&quot;DOM&quot;,&quot;type&quot;:&quot;node&quot;,&quot;instanceArgs&quot;:{&quot;namespace&quot;:&quot;html&quot;,&quot;tag&quot;:&quot;p&quot;},&quot;children&quot;:[]}]}]}]}]},{&quot;props&quot;:{},&quot;nodeType&quot;:&quot;Scope&quot;,&quot;type&quot;:&quot;node&quot;,&quot;instanceArgs&quot;:{&quot;imports&quot;:{&quot;data&quot;:[],&quot;type&quot;:&quot;async_block&quot;},&quot;id&quot;:&quot;scope-8cfbd96b-0f0a-48ef-8107-eed5c1134dca&quot;,&quot;handlers&quot;:{&quot;obs-output&quot;:[function (updated_htmlstr) {\n",
       "    var el = this.dom.querySelector(&quot;#out&quot;);\n",
       "    WebIO.propUtils.setInnerHtml(el, updated_htmlstr);\n",
       "}]},&quot;systemjs_options&quot;:null,&quot;observables&quot;:{&quot;obs-output&quot;:{&quot;sync&quot;:false,&quot;id&quot;:&quot;ob_05&quot;,&quot;value&quot;:&quot;&lt;div class=&#39;display:none&#39;&gt;&lt;/div&gt;&lt;unsafe-script style=&#39;display:none&#39;&gt;\\nWebIO.mount(this.previousSibling,{&amp;quot;props&amp;quot;:{&amp;quot;attributes&amp;quot;:{&amp;quot;style&amp;quot;:&amp;quot;display:flex; justify-content:center; align-items:center;&amp;quot;}},&amp;quot;nodeType&amp;quot;:&amp;quot;DOM&amp;quot;,&amp;quot;type&amp;quot;:&amp;quot;node&amp;quot;,&amp;quot;instanceArgs&amp;quot;:{&amp;quot;namespace&amp;quot;:&amp;quot;html&amp;quot;,&amp;quot;tag&amp;quot;:&amp;quot;div&amp;quot;},&amp;quot;children&amp;quot;:[{&amp;quot;props&amp;quot;:{&amp;quot;setInnerHtml&amp;quot;:&amp;quot;&amp;lt;img src=&amp;#39;data:image/png;base64,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&amp;#39;&amp;gt;&amp;lt;/img&amp;gt;&amp;quot;},&amp;quot;nodeType&amp;quot;:&amp;quot;DOM&amp;quot;,&amp;quot;type&amp;quot;:&amp;quot;node&amp;quot;,&amp;quot;instanceArgs&amp;quot;:{&amp;quot;namespace&amp;quot;:&amp;quot;html&amp;quot;,&amp;quot;tag&amp;quot;:&amp;quot;div&amp;quot;},&amp;quot;children&amp;quot;:[]}]})&lt;/unsafe-script&gt;&quot;}}},&quot;children&quot;:[{&quot;props&quot;:{&quot;id&quot;:&quot;out&quot;,&quot;setInnerHtml&quot;:&quot;&lt;div class=&#39;display:none&#39;&gt;&lt;/div&gt;&lt;unsafe-script style=&#39;display:none&#39;&gt;\\nWebIO.mount(this.previousSibling,{&amp;quot;props&amp;quot;:{&amp;quot;attributes&amp;quot;:{&amp;quot;style&amp;quot;:&amp;quot;display:flex; justify-content:center; align-items:center;&amp;quot;}},&amp;quot;nodeType&amp;quot;:&amp;quot;DOM&amp;quot;,&amp;quot;type&amp;quot;:&amp;quot;node&amp;quot;,&amp;quot;instanceArgs&amp;quot;:{&amp;quot;namespace&amp;quot;:&amp;quot;html&amp;quot;,&amp;quot;tag&amp;quot;:&amp;quot;div&amp;quot;},&amp;quot;children&amp;quot;:[{&amp;quot;props&amp;quot;:{&amp;quot;setInnerHtml&amp;quot;:&amp;quot;&amp;lt;img src=&amp;#39;data:image/png;base64,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&amp;#39;&amp;gt;&amp;lt;/img&amp;gt;&amp;quot;},&amp;quot;nodeType&amp;quot;:&amp;quot;DOM&amp;quot;,&amp;quot;type&amp;quot;:&amp;quot;node&amp;quot;,&amp;quot;instanceArgs&amp;quot;:{&amp;quot;namespace&amp;quot;:&amp;quot;html&amp;quot;,&amp;quot;tag&amp;quot;:&amp;quot;div&amp;quot;},&amp;quot;children&amp;quot;:[]}]})&lt;/unsafe-script&gt;&quot;},&quot;nodeType&quot;:&quot;DOM&quot;,&quot;type&quot;:&quot;node&quot;,&quot;instanceArgs&quot;:{&quot;namespace&quot;:&quot;html&quot;,&quot;tag&quot;:&quot;div&quot;},&quot;children&quot;:[]}]}]})</unsafe-script>\n",
       "</div>"
      ],
      "text/plain": [
       "Widget{:manipulate,Any}(OrderedDict{Symbol,Any}(:frame_index=>Widget{:slider,Int64}(OrderedDict{Symbol,Any}(:changes=>Observable{Int64}(\"ob_02\", 0, Any[SyncCallback(Scope(\"knockout-component-fddc2108-64dc-441f-be9a-4530cb07f790\", Node{DOM}(DOM(:html, :div), Any[Node{DOM}(DOM(:html, :div), Any[Node{DOM}(DOM(:html, :label), Any[\"frame_index\"], Dict{Symbol,Any}(:className=>\"interact \",:style=>Dict{Any,Any}(:padding=>\"5px 10px 0px 10px\")), 1)], Dict{Symbol,Any}(:attributes=>Dict(\"style\"=>\"text-align:right;width:18%\")), 2), Node{DOM}(DOM(:html, :div), Any[Node{DOM}(DOM(:html, :input), Any[], Dict{Symbol,Any}(:max=>301,:min=>1,:attributes=>Dict{Any,Any}(:type=>\"range\",Symbol(\"data-bind\")=>\"numericValue: value, valueUpdate: 'input', event: {change : function () {this.changes(this.changes()+1)}}\",\"orient\"=>\"horizontal\"),:step=>1,:className=>\"slider slider is-fullwidth\",:style=>Dict{Any,Any}()), 0)], Dict{Symbol,Any}(:attributes=>Dict(\"style\"=>\"flex-grow:1; margin: 0 2%\")), 1), Node{DOM}(DOM(:html, :div), Any[Node{DOM}(DOM(:html, :p), Any[], Dict{Symbol,Any}(:attributes=>Dict(\"data-bind\"=>\"text: value\")), 0)], Dict{Symbol,Any}(:attributes=>Dict(\"style\"=>\"width:18%\")), 1)], Dict{Symbol,Any}(:attributes=>Dict(\"style\"=>\"display:flex; justify-content:center; align-items:center;\")), 7), Dict{String,Tuple{Observables.AbstractObservable,Union{Nothing, Bool}}}(\"changes\"=>(Observable{Int64}(#= circular reference @-6 =#), nothing),\"value\"=>(Observable{Int64}(\"ob_01\", 151, Any[SyncCallback(Scope(#= circular reference @-6 =#), SyncCallback(Scope(#= circular reference @-7 =#), ##40#42{Scope,String}(Scope(#= circular reference @-8 =#), \"value\"))), #g#15{##16#17{##6#8,Observable{Any}},Tuple{Observable{Int64}}}(##16#17{##6#8,Observable{Any}}(##6#8(), Observable{Any}(\"ob_03\", CairoSurfaceBase{UInt32}(Ptr{Nothing} @0x0000000021d4a840, 1000.0, 600.0), Any[])), (Observable{Int64}(#= circular reference @-4 =#),))]), nothing)), Set(String[]), nothing, Any[\"knockout\"=>\"C:\\\\Users\\\\Maxime\\\\.julia\\\\packages\\\\Knockout\\\\JIqpG\\\\src\\\\..\\\\assets\\\\knockout.js\", \"knockout_punches\"=>\"C:\\\\Users\\\\Maxime\\\\.julia\\\\packages\\\\Knockout\\\\JIqpG\\\\src\\\\..\\\\assets\\\\knockout_punches.js\", \"C:\\\\Users\\\\Maxime\\\\.julia\\\\packages\\\\InteractBase\\\\Q4IkI\\\\src\\\\..\\\\assets\\\\all.js\", \"C:\\\\Users\\\\Maxime\\\\.julia\\\\packages\\\\InteractBase\\\\Q4IkI\\\\src\\\\..\\\\assets\\\\style.css\", \"C:\\\\Users\\\\Maxime\\\\.julia\\\\packages\\\\InteractBulma\\\\Ohu5Y\\\\src\\\\..\\\\assets\\\\main.css\"], Dict{Any,Any}(\"_promises\"=>Dict{Any,Any}(\"importsLoaded\"=>Any[JSString(\"function (ko, koPunches) {\\n    ko.punches.enableAll();\\n    ko.bindingHandlers.numericValue = {\\n        init : function(element, valueAccessor, allBindings, data, context) {\\n            var stringified = ko.observable(ko.unwrap(valueAccessor()));\\n            stringified.subscribe(function(value) {\\n                var val = parseFloat(value);\\n                if (!isNaN(val)) {\\n                    valueAccessor()(val);\\n                }\\n            })\\n            valueAccessor().subscribe(function(value) {\\n                var str = JSON.stringify(value);\\n                if ((str == \\\"0\\\") && ([\\\"-0\\\", \\\"-0.\\\"].indexOf(stringified()) >= 0))\\n                     return;\\n                 if ([\\\"null\\\", \\\"\\\"].indexOf(str) >= 0)\\n                     return;\\n                stringified(str);\\n            })\\n            ko.applyBindingsToNode(element, { value: stringified, valueUpdate: allBindings.get('valueUpdate')}, context);\\n        }\\n    };\\n    var json_data = JSON.parse(\\\"{\\\\\\\"changes\\\\\\\":0,\\\\\\\"value\\\\\\\":151}\\\");\\n    var self = this;\\n    function AppViewModel() {\\n        for (var key in json_data) {\\n            var el = json_data[key];\\n            this[key] = Array.isArray(el) ? ko.observableArray(el) : ko.observable(el);\\n        }\\n        \\n        \\n        [this[\\\"changes\\\"].subscribe((function (val){!(this.valueFromJulia[\\\"changes\\\"]) ? (WebIO.setval({\\\"name\\\":\\\"changes\\\",\\\"scope\\\":\\\"knockout-component-fddc2108-64dc-441f-be9a-4530cb07f790\\\",\\\"id\\\":\\\"ob_02\\\",\\\"type\\\":\\\"observable\\\"},val)) : undefined; return this.valueFromJulia[\\\"changes\\\"]=false}),self),this[\\\"value\\\"].subscribe((function (val){!(this.valueFromJulia[\\\"value\\\"]) ? (WebIO.setval({\\\"name\\\":\\\"value\\\",\\\"scope\\\":\\\"knockout-component-fddc2108-64dc-441f-be9a-4530cb07f790\\\",\\\"id\\\":\\\"ob_01\\\",\\\"type\\\":\\\"observable\\\"},val)) : undefined; return this.valueFromJulia[\\\"value\\\"]=false}),self)]\\n        \\n    }\\n    self.model = new AppViewModel();\\n    self.valueFromJulia = {};\\n    for (var key in json_data) {\\n        self.valueFromJulia[key] = false;\\n    }\\n    ko.applyBindings(self.model, self.dom);\\n}\\n\")]),\"changes\"=>Any[JSString(\"(function (val){return (val!=this.model[\\\"changes\\\"]()) ? (this.valueFromJulia[\\\"changes\\\"]=true, this.model[\\\"changes\\\"](val)) : undefined})\")],\"value\"=>Any[JSString(\"(function (val){return (val!=this.model[\\\"value\\\"]()) ? (this.valueFromJulia[\\\"value\\\"]=true, this.model[\\\"value\\\"](val)) : undefined})\")]), ConnectionPool(Channel{Any}(sz_max:9223372036854775807,sz_curr:3), Set(AbstractConnection[]), Channel{AbstractConnection}(sz_max:32,sz_curr:0))), SyncCallback(Scope(\"knockout-component-fddc2108-64dc-441f-be9a-4530cb07f790\", Node{DOM}(DOM(:html, :div), Any[Node{DOM}(DOM(:html, :div), Any[Node{DOM}(DOM(:html, :label), Any[\"frame_index\"], Dict{Symbol,Any}(:className=>\"interact \",:style=>Dict{Any,Any}(:padding=>\"5px 10px 0px 10px\")), 1)], Dict{Symbol,Any}(:attributes=>Dict(\"style\"=>\"text-align:right;width:18%\")), 2), Node{DOM}(DOM(:html, :div), Any[Node{DOM}(DOM(:html, :input), Any[], Dict{Symbol,Any}(:max=>301,:min=>1,:attributes=>Dict{Any,Any}(:type=>\"range\",Symbol(\"data-bind\")=>\"numericValue: value, valueUpdate: 'input', event: {change : function () {this.changes(this.changes()+1)}}\",\"orient\"=>\"horizontal\"),:step=>1,:className=>\"slider slider is-fullwidth\",:style=>Dict{Any,Any}()), 0)], Dict{Symbol,Any}(:attributes=>Dict(\"style\"=>\"flex-grow:1; margin: 0 2%\")), 1), Node{DOM}(DOM(:html, :div), Any[Node{DOM}(DOM(:html, :p), Any[], Dict{Symbol,Any}(:attributes=>Dict(\"data-bind\"=>\"text: value\")), 0)], Dict{Symbol,Any}(:attributes=>Dict(\"style\"=>\"width:18%\")), 1)], Dict{Symbol,Any}(:attributes=>Dict(\"style\"=>\"display:flex; justify-content:center; align-items:center;\")), 7), Dict{String,Tuple{Observables.AbstractObservable,Union{Nothing, Bool}}}(\"changes\"=>(Observable{Int64}(#= circular reference @-7 =#), nothing),\"value\"=>(Observable{Int64}(\"ob_01\", 151, Any[SyncCallback(Scope(#= circular reference @-6 =#), SyncCallback(Scope(#= circular reference @-7 =#), ##40#42{Scope,String}(Scope(#= circular reference @-8 =#), \"value\"))), #g#15{##16#17{##6#8,Observable{Any}},Tuple{Observable{Int64}}}(##16#17{##6#8,Observable{Any}}(##6#8(), Observable{Any}(\"ob_03\", CairoSurfaceBase{UInt32}(Ptr{Nothing} @0x0000000021d4a840, 1000.0, 600.0), Any[])), (Observable{Int64}(#= circular reference @-4 =#),))]), nothing)), Set(String[]), nothing, Any[\"knockout\"=>\"C:\\\\Users\\\\Maxime\\\\.julia\\\\packages\\\\Knockout\\\\JIqpG\\\\src\\\\..\\\\assets\\\\knockout.js\", \"knockout_punches\"=>\"C:\\\\Users\\\\Maxime\\\\.julia\\\\packages\\\\Knockout\\\\JIqpG\\\\src\\\\..\\\\assets\\\\knockout_punches.js\", \"C:\\\\Users\\\\Maxime\\\\.julia\\\\packages\\\\InteractBase\\\\Q4IkI\\\\src\\\\..\\\\assets\\\\all.js\", \"C:\\\\Users\\\\Maxime\\\\.julia\\\\packages\\\\InteractBase\\\\Q4IkI\\\\src\\\\..\\\\assets\\\\style.css\", \"C:\\\\Users\\\\Maxime\\\\.julia\\\\packages\\\\InteractBulma\\\\Ohu5Y\\\\src\\\\..\\\\assets\\\\main.css\"], Dict{Any,Any}(\"_promises\"=>Dict{Any,Any}(\"importsLoaded\"=>Any[JSString(\"function (ko, koPunches) {\\n    ko.punches.enableAll();\\n    ko.bindingHandlers.numericValue = {\\n        init : function(element, valueAccessor, allBindings, data, context) {\\n            var stringified = ko.observable(ko.unwrap(valueAccessor()));\\n            stringified.subscribe(function(value) {\\n                var val = parseFloat(value);\\n                if (!isNaN(val)) {\\n                    valueAccessor()(val);\\n                }\\n            })\\n            valueAccessor().subscribe(function(value) {\\n                var str = JSON.stringify(value);\\n                if ((str == \\\"0\\\") && ([\\\"-0\\\", \\\"-0.\\\"].indexOf(stringified()) >= 0))\\n                     return;\\n                 if ([\\\"null\\\", \\\"\\\"].indexOf(str) >= 0)\\n                     return;\\n                stringified(str);\\n            })\\n            ko.applyBindingsToNode(element, { value: stringified, valueUpdate: allBindings.get('valueUpdate')}, context);\\n        }\\n    };\\n    var json_data = JSON.parse(\\\"{\\\\\\\"changes\\\\\\\":0,\\\\\\\"value\\\\\\\":151}\\\");\\n    var self = this;\\n    function AppViewModel() {\\n        for (var key in json_data) {\\n            var el = json_data[key];\\n            this[key] = Array.isArray(el) ? ko.observableArray(el) : ko.observable(el);\\n        }\\n        \\n        \\n        [this[\\\"changes\\\"].subscribe((function (val){!(this.valueFromJulia[\\\"changes\\\"]) ? (WebIO.setval({\\\"name\\\":\\\"changes\\\",\\\"scope\\\":\\\"knockout-component-fddc2108-64dc-441f-be9a-4530cb07f790\\\",\\\"id\\\":\\\"ob_02\\\",\\\"type\\\":\\\"observable\\\"},val)) : undefined; return this.valueFromJulia[\\\"changes\\\"]=false}),self),this[\\\"value\\\"].subscribe((function (val){!(this.valueFromJulia[\\\"value\\\"]) ? (WebIO.setval({\\\"name\\\":\\\"value\\\",\\\"scope\\\":\\\"knockout-component-fddc2108-64dc-441f-be9a-4530cb07f790\\\",\\\"id\\\":\\\"ob_01\\\",\\\"type\\\":\\\"observable\\\"},val)) : undefined; return this.valueFromJulia[\\\"value\\\"]=false}),self)]\\n        \\n    }\\n    self.model = new AppViewModel();\\n    self.valueFromJulia = {};\\n    for (var key in json_data) {\\n        self.valueFromJulia[key] = false;\\n    }\\n    ko.applyBindings(self.model, self.dom);\\n}\\n\")]),\"changes\"=>Any[JSString(\"(function (val){return (val!=this.model[\\\"changes\\\"]()) ? (this.valueFromJulia[\\\"changes\\\"]=true, this.model[\\\"changes\\\"](val)) : undefined})\")],\"value\"=>Any[JSString(\"(function (val){return (val!=this.model[\\\"value\\\"]()) ? (this.valueFromJulia[\\\"value\\\"]=true, this.model[\\\"value\\\"](val)) : undefined})\")]), ConnectionPool(Channel{Any}(sz_max:9223372036854775807,sz_curr:3), Set(AbstractConnection[]), Channel{AbstractConnection}(sz_max:32,sz_curr:0))), ##40#42{Scope,String}(Scope(\"knockout-component-fddc2108-64dc-441f-be9a-4530cb07f790\", Node{DOM}(DOM(:html, :div), Any[Node{DOM}(DOM(:html, :div), Any[Node{DOM}(DOM(:html, :label), Any[\"frame_index\"], Dict{Symbol,Any}(:className=>\"interact \",:style=>Dict{Any,Any}(:padding=>\"5px 10px 0px 10px\")), 1)], Dict{Symbol,Any}(:attributes=>Dict(\"style\"=>\"text-align:right;width:18%\")), 2), Node{DOM}(DOM(:html, :div), Any[Node{DOM}(DOM(:html, :input), Any[], Dict{Symbol,Any}(:max=>301,:min=>1,:attributes=>Dict{Any,Any}(:type=>\"range\",Symbol(\"data-bind\")=>\"numericValue: value, valueUpdate: 'input', event: {change : function () {this.changes(this.changes()+1)}}\",\"orient\"=>\"horizontal\"),:step=>1,:className=>\"slider slider is-fullwidth\",:style=>Dict{Any,Any}()), 0)], Dict{Symbol,Any}(:attributes=>Dict(\"style\"=>\"flex-grow:1; margin: 0 2%\")), 1), Node{DOM}(DOM(:html, :div), Any[Node{DOM}(DOM(:html, :p), Any[], Dict{Symbol,Any}(:attributes=>Dict(\"data-bind\"=>\"text: value\")), 0)], Dict{Symbol,Any}(:attributes=>Dict(\"style\"=>\"width:18%\")), 1)], Dict{Symbol,Any}(:attributes=>Dict(\"style\"=>\"display:flex; justify-content:center; align-items:center;\")), 7), Dict{String,Tuple{Observables.AbstractObservable,Union{Nothing, Bool}}}(\"changes\"=>(Observable{Int64}(#= circular reference @-8 =#), nothing),\"value\"=>(Observable{Int64}(\"ob_01\", 151, Any[SyncCallback(Scope(#= circular reference @-6 =#), SyncCallback(Scope(#= circular reference @-7 =#), ##40#42{Scope,String}(Scope(#= circular reference @-8 =#), \"value\"))), #g#15{##16#17{##6#8,Observable{Any}},Tuple{Observable{Int64}}}(##16#17{##6#8,Observable{Any}}(##6#8(), Observable{Any}(\"ob_03\", CairoSurfaceBase{UInt32}(Ptr{Nothing} @0x0000000021d4a840, 1000.0, 600.0), Any[])), (Observable{Int64}(#= circular reference @-4 =#),))]), nothing)), Set(String[]), nothing, Any[\"knockout\"=>\"C:\\\\Users\\\\Maxime\\\\.julia\\\\packages\\\\Knockout\\\\JIqpG\\\\src\\\\..\\\\assets\\\\knockout.js\", \"knockout_punches\"=>\"C:\\\\Users\\\\Maxime\\\\.julia\\\\packages\\\\Knockout\\\\JIqpG\\\\src\\\\..\\\\assets\\\\knockout_punches.js\", \"C:\\\\Users\\\\Maxime\\\\.julia\\\\packages\\\\InteractBase\\\\Q4IkI\\\\src\\\\..\\\\assets\\\\all.js\", \"C:\\\\Users\\\\Maxime\\\\.julia\\\\packages\\\\InteractBase\\\\Q4IkI\\\\src\\\\..\\\\assets\\\\style.css\", \"C:\\\\Users\\\\Maxime\\\\.julia\\\\packages\\\\InteractBulma\\\\Ohu5Y\\\\src\\\\..\\\\assets\\\\main.css\"], Dict{Any,Any}(\"_promises\"=>Dict{Any,Any}(\"importsLoaded\"=>Any[JSString(\"function (ko, koPunches) {\\n    ko.punches.enableAll();\\n    ko.bindingHandlers.numericValue = {\\n        init : function(element, valueAccessor, allBindings, data, context) {\\n            var stringified = ko.observable(ko.unwrap(valueAccessor()));\\n            stringified.subscribe(function(value) {\\n                var val = parseFloat(value);\\n                if (!isNaN(val)) {\\n                    valueAccessor()(val);\\n                }\\n            })\\n            valueAccessor().subscribe(function(value) {\\n                var str = JSON.stringify(value);\\n                if ((str == \\\"0\\\") && ([\\\"-0\\\", \\\"-0.\\\"].indexOf(stringified()) >= 0))\\n                     return;\\n                 if ([\\\"null\\\", \\\"\\\"].indexOf(str) >= 0)\\n                     return;\\n                stringified(str);\\n            })\\n            ko.applyBindingsToNode(element, { value: stringified, valueUpdate: allBindings.get('valueUpdate')}, context);\\n        }\\n    };\\n    var json_data = JSON.parse(\\\"{\\\\\\\"changes\\\\\\\":0,\\\\\\\"value\\\\\\\":151}\\\");\\n    var self = this;\\n    function AppViewModel() {\\n        for (var key in json_data) {\\n            var el = json_data[key];\\n            this[key] = Array.isArray(el) ? ko.observableArray(el) : ko.observable(el);\\n        }\\n        \\n        \\n        [this[\\\"changes\\\"].subscribe((function (val){!(this.valueFromJulia[\\\"changes\\\"]) ? (WebIO.setval({\\\"name\\\":\\\"changes\\\",\\\"scope\\\":\\\"knockout-component-fddc2108-64dc-441f-be9a-4530cb07f790\\\",\\\"id\\\":\\\"ob_02\\\",\\\"type\\\":\\\"observable\\\"},val)) : undefined; return this.valueFromJulia[\\\"changes\\\"]=false}),self),this[\\\"value\\\"].subscribe((function (val){!(this.valueFromJulia[\\\"value\\\"]) ? (WebIO.setval({\\\"name\\\":\\\"value\\\",\\\"scope\\\":\\\"knockout-component-fddc2108-64dc-441f-be9a-4530cb07f790\\\",\\\"id\\\":\\\"ob_01\\\",\\\"type\\\":\\\"observable\\\"},val)) : undefined; return this.valueFromJulia[\\\"value\\\"]=false}),self)]\\n        \\n    }\\n    self.model = new AppViewModel();\\n    self.valueFromJulia = {};\\n    for (var key in json_data) {\\n        self.valueFromJulia[key] = false;\\n    }\\n    ko.applyBindings(self.model, self.dom);\\n}\\n\")]),\"changes\"=>Any[JSString(\"(function (val){return (val!=this.model[\\\"changes\\\"]()) ? (this.valueFromJulia[\\\"changes\\\"]=true, this.model[\\\"changes\\\"](val)) : undefined})\")],\"value\"=>Any[JSString(\"(function (val){return (val!=this.model[\\\"value\\\"]()) ? (this.valueFromJulia[\\\"value\\\"]=true, this.model[\\\"value\\\"](val)) : undefined})\")]), ConnectionPool(Channel{Any}(sz_max:9223372036854775807,sz_curr:3), Set(AbstractConnection[]), Channel{AbstractConnection}(sz_max:32,sz_curr:0))), \"changes\")))]),:value=>Observable{Int64}(\"ob_01\", 151, Any[SyncCallback(Scope(\"knockout-component-fddc2108-64dc-441f-be9a-4530cb07f790\", Node{DOM}(DOM(:html, :div), Any[Node{DOM}(DOM(:html, :div), Any[Node{DOM}(DOM(:html, :label), Any[\"frame_index\"], Dict{Symbol,Any}(:className=>\"interact \",:style=>Dict{Any,Any}(:padding=>\"5px 10px 0px 10px\")), 1)], Dict{Symbol,Any}(:attributes=>Dict(\"style\"=>\"text-align:right;width:18%\")), 2), Node{DOM}(DOM(:html, :div), Any[Node{DOM}(DOM(:html, :input), Any[], Dict{Symbol,Any}(:max=>301,:min=>1,:attributes=>Dict{Any,Any}(:type=>\"range\",Symbol(\"data-bind\")=>\"numericValue: value, valueUpdate: 'input', event: {change : function () {this.changes(this.changes()+1)}}\",\"orient\"=>\"horizontal\"),:step=>1,:className=>\"slider slider is-fullwidth\",:style=>Dict{Any,Any}()), 0)], Dict{Symbol,Any}(:attributes=>Dict(\"style\"=>\"flex-grow:1; margin: 0 2%\")), 1), Node{DOM}(DOM(:html, :div), Any[Node{DOM}(DOM(:html, :p), Any[], Dict{Symbol,Any}(:attributes=>Dict(\"data-bind\"=>\"text: value\")), 0)], Dict{Symbol,Any}(:attributes=>Dict(\"style\"=>\"width:18%\")), 1)], Dict{Symbol,Any}(:attributes=>Dict(\"style\"=>\"display:flex; justify-content:center; align-items:center;\")), 7), Dict{String,Tuple{Observables.AbstractObservable,Union{Nothing, Bool}}}(\"changes\"=>(Observable{Int64}(\"ob_02\", 0, Any[SyncCallback(Scope(#= circular reference @-6 =#), SyncCallback(Scope(#= circular reference @-7 =#), ##40#42{Scope,String}(Scope(#= circular reference @-8 =#), \"changes\")))]), nothing),\"value\"=>(Observable{Int64}(#= circular reference @-6 =#), nothing)), Set(String[]), nothing, Any[\"knockout\"=>\"C:\\\\Users\\\\Maxime\\\\.julia\\\\packages\\\\Knockout\\\\JIqpG\\\\src\\\\..\\\\assets\\\\knockout.js\", \"knockout_punches\"=>\"C:\\\\Users\\\\Maxime\\\\.julia\\\\packages\\\\Knockout\\\\JIqpG\\\\src\\\\..\\\\assets\\\\knockout_punches.js\", \"C:\\\\Users\\\\Maxime\\\\.julia\\\\packages\\\\InteractBase\\\\Q4IkI\\\\src\\\\..\\\\assets\\\\all.js\", \"C:\\\\Users\\\\Maxime\\\\.julia\\\\packages\\\\InteractBase\\\\Q4IkI\\\\src\\\\..\\\\assets\\\\style.css\", \"C:\\\\Users\\\\Maxime\\\\.julia\\\\packages\\\\InteractBulma\\\\Ohu5Y\\\\src\\\\..\\\\assets\\\\main.css\"], Dict{Any,Any}(\"_promises\"=>Dict{Any,Any}(\"importsLoaded\"=>Any[JSString(\"function (ko, koPunches) {\\n    ko.punches.enableAll();\\n    ko.bindingHandlers.numericValue = {\\n        init : function(element, valueAccessor, allBindings, data, context) {\\n            var stringified = ko.observable(ko.unwrap(valueAccessor()));\\n            stringified.subscribe(function(value) {\\n                var val = parseFloat(value);\\n                if (!isNaN(val)) {\\n                    valueAccessor()(val);\\n                }\\n            })\\n            valueAccessor().subscribe(function(value) {\\n                var str = JSON.stringify(value);\\n                if ((str == \\\"0\\\") && ([\\\"-0\\\", \\\"-0.\\\"].indexOf(stringified()) >= 0))\\n                     return;\\n                 if ([\\\"null\\\", \\\"\\\"].indexOf(str) >= 0)\\n                     return;\\n                stringified(str);\\n            })\\n            ko.applyBindingsToNode(element, { value: stringified, valueUpdate: allBindings.get('valueUpdate')}, context);\\n        }\\n    };\\n    var json_data = JSON.parse(\\\"{\\\\\\\"changes\\\\\\\":0,\\\\\\\"value\\\\\\\":151}\\\");\\n    var self = this;\\n    function AppViewModel() {\\n        for (var key in json_data) {\\n            var el = json_data[key];\\n            this[key] = Array.isArray(el) ? ko.observableArray(el) : ko.observable(el);\\n        }\\n        \\n        \\n        [this[\\\"changes\\\"].subscribe((function (val){!(this.valueFromJulia[\\\"changes\\\"]) ? (WebIO.setval({\\\"name\\\":\\\"changes\\\",\\\"scope\\\":\\\"knockout-component-fddc2108-64dc-441f-be9a-4530cb07f790\\\",\\\"id\\\":\\\"ob_02\\\",\\\"type\\\":\\\"observable\\\"},val)) : undefined; return this.valueFromJulia[\\\"changes\\\"]=false}),self),this[\\\"value\\\"].subscribe((function (val){!(this.valueFromJulia[\\\"value\\\"]) ? (WebIO.setval({\\\"name\\\":\\\"value\\\",\\\"scope\\\":\\\"knockout-component-fddc2108-64dc-441f-be9a-4530cb07f790\\\",\\\"id\\\":\\\"ob_01\\\",\\\"type\\\":\\\"observable\\\"},val)) : undefined; return this.valueFromJulia[\\\"value\\\"]=false}),self)]\\n        \\n    }\\n    self.model = new AppViewModel();\\n    self.valueFromJulia = {};\\n    for (var key in json_data) {\\n        self.valueFromJulia[key] = false;\\n    }\\n    ko.applyBindings(self.model, self.dom);\\n}\\n\")]),\"changes\"=>Any[JSString(\"(function (val){return (val!=this.model[\\\"changes\\\"]()) ? (this.valueFromJulia[\\\"changes\\\"]=true, this.model[\\\"changes\\\"](val)) : undefined})\")],\"value\"=>Any[JSString(\"(function (val){return (val!=this.model[\\\"value\\\"]()) ? (this.valueFromJulia[\\\"value\\\"]=true, this.model[\\\"value\\\"](val)) : undefined})\")]), ConnectionPool(Channel{Any}(sz_max:9223372036854775807,sz_curr:3), Set(AbstractConnection[]), Channel{AbstractConnection}(sz_max:32,sz_curr:0))), SyncCallback(Scope(\"knockout-component-fddc2108-64dc-441f-be9a-4530cb07f790\", Node{DOM}(DOM(:html, :div), Any[Node{DOM}(DOM(:html, :div), Any[Node{DOM}(DOM(:html, :label), Any[\"frame_index\"], Dict{Symbol,Any}(:className=>\"interact \",:style=>Dict{Any,Any}(:padding=>\"5px 10px 0px 10px\")), 1)], Dict{Symbol,Any}(:attributes=>Dict(\"style\"=>\"text-align:right;width:18%\")), 2), Node{DOM}(DOM(:html, :div), Any[Node{DOM}(DOM(:html, :input), Any[], Dict{Symbol,Any}(:max=>301,:min=>1,:attributes=>Dict{Any,Any}(:type=>\"range\",Symbol(\"data-bind\")=>\"numericValue: value, valueUpdate: 'input', event: {change : function () {this.changes(this.changes()+1)}}\",\"orient\"=>\"horizontal\"),:step=>1,:className=>\"slider slider is-fullwidth\",:style=>Dict{Any,Any}()), 0)], Dict{Symbol,Any}(:attributes=>Dict(\"style\"=>\"flex-grow:1; margin: 0 2%\")), 1), Node{DOM}(DOM(:html, :div), Any[Node{DOM}(DOM(:html, :p), Any[], Dict{Symbol,Any}(:attributes=>Dict(\"data-bind\"=>\"text: value\")), 0)], Dict{Symbol,Any}(:attributes=>Dict(\"style\"=>\"width:18%\")), 1)], Dict{Symbol,Any}(:attributes=>Dict(\"style\"=>\"display:flex; justify-content:center; align-items:center;\")), 7), Dict{String,Tuple{Observables.AbstractObservable,Union{Nothing, Bool}}}(\"changes\"=>(Observable{Int64}(\"ob_02\", 0, Any[SyncCallback(Scope(#= circular reference @-6 =#), SyncCallback(Scope(#= circular reference @-7 =#), ##40#42{Scope,String}(Scope(#= circular reference @-8 =#), \"changes\")))]), nothing),\"value\"=>(Observable{Int64}(#= circular reference @-7 =#), nothing)), Set(String[]), nothing, Any[\"knockout\"=>\"C:\\\\Users\\\\Maxime\\\\.julia\\\\packages\\\\Knockout\\\\JIqpG\\\\src\\\\..\\\\assets\\\\knockout.js\", \"knockout_punches\"=>\"C:\\\\Users\\\\Maxime\\\\.julia\\\\packages\\\\Knockout\\\\JIqpG\\\\src\\\\..\\\\assets\\\\knockout_punches.js\", \"C:\\\\Users\\\\Maxime\\\\.julia\\\\packages\\\\InteractBase\\\\Q4IkI\\\\src\\\\..\\\\assets\\\\all.js\", \"C:\\\\Users\\\\Maxime\\\\.julia\\\\packages\\\\InteractBase\\\\Q4IkI\\\\src\\\\..\\\\assets\\\\style.css\", \"C:\\\\Users\\\\Maxime\\\\.julia\\\\packages\\\\InteractBulma\\\\Ohu5Y\\\\src\\\\..\\\\assets\\\\main.css\"], Dict{Any,Any}(\"_promises\"=>Dict{Any,Any}(\"importsLoaded\"=>Any[JSString(\"function (ko, koPunches) {\\n    ko.punches.enableAll();\\n    ko.bindingHandlers.numericValue = {\\n        init : function(element, valueAccessor, allBindings, data, context) {\\n            var stringified = ko.observable(ko.unwrap(valueAccessor()));\\n            stringified.subscribe(function(value) {\\n                var val = parseFloat(value);\\n                if (!isNaN(val)) {\\n                    valueAccessor()(val);\\n                }\\n            })\\n            valueAccessor().subscribe(function(value) {\\n                var str = JSON.stringify(value);\\n                if ((str == \\\"0\\\") && ([\\\"-0\\\", \\\"-0.\\\"].indexOf(stringified()) >= 0))\\n                     return;\\n                 if ([\\\"null\\\", \\\"\\\"].indexOf(str) >= 0)\\n                     return;\\n                stringified(str);\\n            })\\n            ko.applyBindingsToNode(element, { value: stringified, valueUpdate: allBindings.get('valueUpdate')}, context);\\n        }\\n    };\\n    var json_data = JSON.parse(\\\"{\\\\\\\"changes\\\\\\\":0,\\\\\\\"value\\\\\\\":151}\\\");\\n    var self = this;\\n    function AppViewModel() {\\n        for (var key in json_data) {\\n            var el = json_data[key];\\n            this[key] = Array.isArray(el) ? ko.observableArray(el) : ko.observable(el);\\n        }\\n        \\n        \\n        [this[\\\"changes\\\"].subscribe((function (val){!(this.valueFromJulia[\\\"changes\\\"]) ? (WebIO.setval({\\\"name\\\":\\\"changes\\\",\\\"scope\\\":\\\"knockout-component-fddc2108-64dc-441f-be9a-4530cb07f790\\\",\\\"id\\\":\\\"ob_02\\\",\\\"type\\\":\\\"observable\\\"},val)) : undefined; return this.valueFromJulia[\\\"changes\\\"]=false}),self),this[\\\"value\\\"].subscribe((function (val){!(this.valueFromJulia[\\\"value\\\"]) ? (WebIO.setval({\\\"name\\\":\\\"value\\\",\\\"scope\\\":\\\"knockout-component-fddc2108-64dc-441f-be9a-4530cb07f790\\\",\\\"id\\\":\\\"ob_01\\\",\\\"type\\\":\\\"observable\\\"},val)) : undefined; return this.valueFromJulia[\\\"value\\\"]=false}),self)]\\n        \\n    }\\n    self.model = new AppViewModel();\\n    self.valueFromJulia = {};\\n    for (var key in json_data) {\\n        self.valueFromJulia[key] = false;\\n    }\\n    ko.applyBindings(self.model, self.dom);\\n}\\n\")]),\"changes\"=>Any[JSString(\"(function (val){return (val!=this.model[\\\"changes\\\"]()) ? (this.valueFromJulia[\\\"changes\\\"]=true, this.model[\\\"changes\\\"](val)) : undefined})\")],\"value\"=>Any[JSString(\"(function (val){return (val!=this.model[\\\"value\\\"]()) ? (this.valueFromJulia[\\\"value\\\"]=true, this.model[\\\"value\\\"](val)) : undefined})\")]), ConnectionPool(Channel{Any}(sz_max:9223372036854775807,sz_curr:3), Set(AbstractConnection[]), Channel{AbstractConnection}(sz_max:32,sz_curr:0))), ##40#42{Scope,String}(Scope(\"knockout-component-fddc2108-64dc-441f-be9a-4530cb07f790\", Node{DOM}(DOM(:html, :div), Any[Node{DOM}(DOM(:html, :div), Any[Node{DOM}(DOM(:html, :label), Any[\"frame_index\"], Dict{Symbol,Any}(:className=>\"interact \",:style=>Dict{Any,Any}(:padding=>\"5px 10px 0px 10px\")), 1)], Dict{Symbol,Any}(:attributes=>Dict(\"style\"=>\"text-align:right;width:18%\")), 2), Node{DOM}(DOM(:html, :div), Any[Node{DOM}(DOM(:html, :input), Any[], Dict{Symbol,Any}(:max=>301,:min=>1,:attributes=>Dict{Any,Any}(:type=>\"range\",Symbol(\"data-bind\")=>\"numericValue: value, valueUpdate: 'input', event: {change : function () {this.changes(this.changes()+1)}}\",\"orient\"=>\"horizontal\"),:step=>1,:className=>\"slider slider is-fullwidth\",:style=>Dict{Any,Any}()), 0)], Dict{Symbol,Any}(:attributes=>Dict(\"style\"=>\"flex-grow:1; margin: 0 2%\")), 1), Node{DOM}(DOM(:html, :div), Any[Node{DOM}(DOM(:html, :p), Any[], Dict{Symbol,Any}(:attributes=>Dict(\"data-bind\"=>\"text: value\")), 0)], Dict{Symbol,Any}(:attributes=>Dict(\"style\"=>\"width:18%\")), 1)], Dict{Symbol,Any}(:attributes=>Dict(\"style\"=>\"display:flex; justify-content:center; align-items:center;\")), 7), Dict{String,Tuple{Observables.AbstractObservable,Union{Nothing, Bool}}}(\"changes\"=>(Observable{Int64}(\"ob_02\", 0, Any[SyncCallback(Scope(#= circular reference @-6 =#), SyncCallback(Scope(#= circular reference @-7 =#), ##40#42{Scope,String}(Scope(#= circular reference @-8 =#), \"changes\")))]), nothing),\"value\"=>(Observable{Int64}(#= circular reference @-8 =#), nothing)), Set(String[]), nothing, Any[\"knockout\"=>\"C:\\\\Users\\\\Maxime\\\\.julia\\\\packages\\\\Knockout\\\\JIqpG\\\\src\\\\..\\\\assets\\\\knockout.js\", \"knockout_punches\"=>\"C:\\\\Users\\\\Maxime\\\\.julia\\\\packages\\\\Knockout\\\\JIqpG\\\\src\\\\..\\\\assets\\\\knockout_punches.js\", \"C:\\\\Users\\\\Maxime\\\\.julia\\\\packages\\\\InteractBase\\\\Q4IkI\\\\src\\\\..\\\\assets\\\\all.js\", \"C:\\\\Users\\\\Maxime\\\\.julia\\\\packages\\\\InteractBase\\\\Q4IkI\\\\src\\\\..\\\\assets\\\\style.css\", \"C:\\\\Users\\\\Maxime\\\\.julia\\\\packages\\\\InteractBulma\\\\Ohu5Y\\\\src\\\\..\\\\assets\\\\main.css\"], Dict{Any,Any}(\"_promises\"=>Dict{Any,Any}(\"importsLoaded\"=>Any[JSString(\"function (ko, koPunches) {\\n    ko.punches.enableAll();\\n    ko.bindingHandlers.numericValue = {\\n        init : function(element, valueAccessor, allBindings, data, context) {\\n            var stringified = ko.observable(ko.unwrap(valueAccessor()));\\n            stringified.subscribe(function(value) {\\n                var val = parseFloat(value);\\n                if (!isNaN(val)) {\\n                    valueAccessor()(val);\\n                }\\n            })\\n            valueAccessor().subscribe(function(value) {\\n                var str = JSON.stringify(value);\\n                if ((str == \\\"0\\\") && ([\\\"-0\\\", \\\"-0.\\\"].indexOf(stringified()) >= 0))\\n                     return;\\n                 if ([\\\"null\\\", \\\"\\\"].indexOf(str) >= 0)\\n                     return;\\n                stringified(str);\\n            })\\n            ko.applyBindingsToNode(element, { value: stringified, valueUpdate: allBindings.get('valueUpdate')}, context);\\n        }\\n    };\\n    var json_data = JSON.parse(\\\"{\\\\\\\"changes\\\\\\\":0,\\\\\\\"value\\\\\\\":151}\\\");\\n    var self = this;\\n    function AppViewModel() {\\n        for (var key in json_data) {\\n            var el = json_data[key];\\n            this[key] = Array.isArray(el) ? ko.observableArray(el) : ko.observable(el);\\n        }\\n        \\n        \\n        [this[\\\"changes\\\"].subscribe((function (val){!(this.valueFromJulia[\\\"changes\\\"]) ? (WebIO.setval({\\\"name\\\":\\\"changes\\\",\\\"scope\\\":\\\"knockout-component-fddc2108-64dc-441f-be9a-4530cb07f790\\\",\\\"id\\\":\\\"ob_02\\\",\\\"type\\\":\\\"observable\\\"},val)) : undefined; return this.valueFromJulia[\\\"changes\\\"]=false}),self),this[\\\"value\\\"].subscribe((function (val){!(this.valueFromJulia[\\\"value\\\"]) ? (WebIO.setval({\\\"name\\\":\\\"value\\\",\\\"scope\\\":\\\"knockout-component-fddc2108-64dc-441f-be9a-4530cb07f790\\\",\\\"id\\\":\\\"ob_01\\\",\\\"type\\\":\\\"observable\\\"},val)) : undefined; return this.valueFromJulia[\\\"value\\\"]=false}),self)]\\n        \\n    }\\n    self.model = new AppViewModel();\\n    self.valueFromJulia = {};\\n    for (var key in json_data) {\\n        self.valueFromJulia[key] = false;\\n    }\\n    ko.applyBindings(self.model, self.dom);\\n}\\n\")]),\"changes\"=>Any[JSString(\"(function (val){return (val!=this.model[\\\"changes\\\"]()) ? (this.valueFromJulia[\\\"changes\\\"]=true, this.model[\\\"changes\\\"](val)) : undefined})\")],\"value\"=>Any[JSString(\"(function (val){return (val!=this.model[\\\"value\\\"]()) ? (this.valueFromJulia[\\\"value\\\"]=true, this.model[\\\"value\\\"](val)) : undefined})\")]), ConnectionPool(Channel{Any}(sz_max:9223372036854775807,sz_curr:3), Set(AbstractConnection[]), Channel{AbstractConnection}(sz_max:32,sz_curr:0))), \"value\"))), #g#15{##16#17{##6#8,Observable{Any}},Tuple{Observable{Int64}}}(##16#17{##6#8,Observable{Any}}(##6#8(), Observable{Any}(\"ob_03\", CairoSurfaceBase{UInt32}(Ptr{Nothing} @0x0000000021d4a840, 1000.0, 600.0), Any[])), (Observable{Int64}(#= circular reference @-4 =#),))])), Observable{Int64}(\"ob_01\", 151, Any[SyncCallback(Scope(\"knockout-component-fddc2108-64dc-441f-be9a-4530cb07f790\", Node{DOM}(DOM(:html, :div), Any[Node{DOM}(DOM(:html, :div), Any[Node{DOM}(DOM(:html, :label), Any[\"frame_index\"], Dict{Symbol,Any}(:className=>\"interact \",:style=>Dict{Any,Any}(:padding=>\"5px 10px 0px 10px\")), 1)], Dict{Symbol,Any}(:attributes=>Dict(\"style\"=>\"text-align:right;width:18%\")), 2), Node{DOM}(DOM(:html, :div), Any[Node{DOM}(DOM(:html, :input), Any[], Dict{Symbol,Any}(:max=>301,:min=>1,:attributes=>Dict{Any,Any}(:type=>\"range\",Symbol(\"data-bind\")=>\"numericValue: value, valueUpdate: 'input', event: {change : function () {this.changes(this.changes()+1)}}\",\"orient\"=>\"horizontal\"),:step=>1,:className=>\"slider slider is-fullwidth\",:style=>Dict{Any,Any}()), 0)], Dict{Symbol,Any}(:attributes=>Dict(\"style\"=>\"flex-grow:1; margin: 0 2%\")), 1), Node{DOM}(DOM(:html, :div), Any[Node{DOM}(DOM(:html, :p), Any[], Dict{Symbol,Any}(:attributes=>Dict(\"data-bind\"=>\"text: value\")), 0)], Dict{Symbol,Any}(:attributes=>Dict(\"style\"=>\"width:18%\")), 1)], Dict{Symbol,Any}(:attributes=>Dict(\"style\"=>\"display:flex; justify-content:center; align-items:center;\")), 7), Dict{String,Tuple{Observables.AbstractObservable,Union{Nothing, Bool}}}(\"changes\"=>(Observable{Int64}(\"ob_02\", 0, Any[SyncCallback(Scope(#= circular reference @-6 =#), SyncCallback(Scope(#= circular reference @-7 =#), ##40#42{Scope,String}(Scope(#= circular reference @-8 =#), \"changes\")))]), nothing),\"value\"=>(Observable{Int64}(#= circular reference @-6 =#), nothing)), Set(String[]), nothing, Any[\"knockout\"=>\"C:\\\\Users\\\\Maxime\\\\.julia\\\\packages\\\\Knockout\\\\JIqpG\\\\src\\\\..\\\\assets\\\\knockout.js\", \"knockout_punches\"=>\"C:\\\\Users\\\\Maxime\\\\.julia\\\\packages\\\\Knockout\\\\JIqpG\\\\src\\\\..\\\\assets\\\\knockout_punches.js\", \"C:\\\\Users\\\\Maxime\\\\.julia\\\\packages\\\\InteractBase\\\\Q4IkI\\\\src\\\\..\\\\assets\\\\all.js\", \"C:\\\\Users\\\\Maxime\\\\.julia\\\\packages\\\\InteractBase\\\\Q4IkI\\\\src\\\\..\\\\assets\\\\style.css\", \"C:\\\\Users\\\\Maxime\\\\.julia\\\\packages\\\\InteractBulma\\\\Ohu5Y\\\\src\\\\..\\\\assets\\\\main.css\"], Dict{Any,Any}(\"_promises\"=>Dict{Any,Any}(\"importsLoaded\"=>Any[JSString(\"function (ko, koPunches) {\\n    ko.punches.enableAll();\\n    ko.bindingHandlers.numericValue = {\\n        init : function(element, valueAccessor, allBindings, data, context) {\\n            var stringified = ko.observable(ko.unwrap(valueAccessor()));\\n            stringified.subscribe(function(value) {\\n                var val = parseFloat(value);\\n                if (!isNaN(val)) {\\n                    valueAccessor()(val);\\n                }\\n            })\\n            valueAccessor().subscribe(function(value) {\\n                var str = JSON.stringify(value);\\n                if ((str == \\\"0\\\") && ([\\\"-0\\\", \\\"-0.\\\"].indexOf(stringified()) >= 0))\\n                     return;\\n                 if ([\\\"null\\\", \\\"\\\"].indexOf(str) >= 0)\\n                     return;\\n                stringified(str);\\n            })\\n            ko.applyBindingsToNode(element, { value: stringified, valueUpdate: allBindings.get('valueUpdate')}, context);\\n        }\\n    };\\n    var json_data = JSON.parse(\\\"{\\\\\\\"changes\\\\\\\":0,\\\\\\\"value\\\\\\\":151}\\\");\\n    var self = this;\\n    function AppViewModel() {\\n        for (var key in json_data) {\\n            var el = json_data[key];\\n            this[key] = Array.isArray(el) ? ko.observableArray(el) : ko.observable(el);\\n        }\\n        \\n        \\n        [this[\\\"changes\\\"].subscribe((function (val){!(this.valueFromJulia[\\\"changes\\\"]) ? (WebIO.setval({\\\"name\\\":\\\"changes\\\",\\\"scope\\\":\\\"knockout-component-fddc2108-64dc-441f-be9a-4530cb07f790\\\",\\\"id\\\":\\\"ob_02\\\",\\\"type\\\":\\\"observable\\\"},val)) : undefined; return this.valueFromJulia[\\\"changes\\\"]=false}),self),this[\\\"value\\\"].subscribe((function (val){!(this.valueFromJulia[\\\"value\\\"]) ? (WebIO.setval({\\\"name\\\":\\\"value\\\",\\\"scope\\\":\\\"knockout-component-fddc2108-64dc-441f-be9a-4530cb07f790\\\",\\\"id\\\":\\\"ob_01\\\",\\\"type\\\":\\\"observable\\\"},val)) : undefined; return this.valueFromJulia[\\\"value\\\"]=false}),self)]\\n        \\n    }\\n    self.model = new AppViewModel();\\n    self.valueFromJulia = {};\\n    for (var key in json_data) {\\n        self.valueFromJulia[key] = false;\\n    }\\n    ko.applyBindings(self.model, self.dom);\\n}\\n\")]),\"changes\"=>Any[JSString(\"(function (val){return (val!=this.model[\\\"changes\\\"]()) ? (this.valueFromJulia[\\\"changes\\\"]=true, this.model[\\\"changes\\\"](val)) : undefined})\")],\"value\"=>Any[JSString(\"(function (val){return (val!=this.model[\\\"value\\\"]()) ? (this.valueFromJulia[\\\"value\\\"]=true, this.model[\\\"value\\\"](val)) : undefined})\")]), ConnectionPool(Channel{Any}(sz_max:9223372036854775807,sz_curr:3), Set(AbstractConnection[]), Channel{AbstractConnection}(sz_max:32,sz_curr:0))), SyncCallback(Scope(\"knockout-component-fddc2108-64dc-441f-be9a-4530cb07f790\", Node{DOM}(DOM(:html, :div), Any[Node{DOM}(DOM(:html, :div), Any[Node{DOM}(DOM(:html, :label), Any[\"frame_index\"], Dict{Symbol,Any}(:className=>\"interact \",:style=>Dict{Any,Any}(:padding=>\"5px 10px 0px 10px\")), 1)], Dict{Symbol,Any}(:attributes=>Dict(\"style\"=>\"text-align:right;width:18%\")), 2), Node{DOM}(DOM(:html, :div), Any[Node{DOM}(DOM(:html, :input), Any[], Dict{Symbol,Any}(:max=>301,:min=>1,:attributes=>Dict{Any,Any}(:type=>\"range\",Symbol(\"data-bind\")=>\"numericValue: value, valueUpdate: 'input', event: {change : function () {this.changes(this.changes()+1)}}\",\"orient\"=>\"horizontal\"),:step=>1,:className=>\"slider slider is-fullwidth\",:style=>Dict{Any,Any}()), 0)], Dict{Symbol,Any}(:attributes=>Dict(\"style\"=>\"flex-grow:1; margin: 0 2%\")), 1), Node{DOM}(DOM(:html, :div), Any[Node{DOM}(DOM(:html, :p), Any[], Dict{Symbol,Any}(:attributes=>Dict(\"data-bind\"=>\"text: value\")), 0)], Dict{Symbol,Any}(:attributes=>Dict(\"style\"=>\"width:18%\")), 1)], Dict{Symbol,Any}(:attributes=>Dict(\"style\"=>\"display:flex; justify-content:center; align-items:center;\")), 7), Dict{String,Tuple{Observables.AbstractObservable,Union{Nothing, Bool}}}(\"changes\"=>(Observable{Int64}(\"ob_02\", 0, Any[SyncCallback(Scope(#= circular reference @-6 =#), SyncCallback(Scope(#= circular reference @-7 =#), ##40#42{Scope,String}(Scope(#= circular reference @-8 =#), \"changes\")))]), nothing),\"value\"=>(Observable{Int64}(#= circular reference @-7 =#), nothing)), Set(String[]), nothing, Any[\"knockout\"=>\"C:\\\\Users\\\\Maxime\\\\.julia\\\\packages\\\\Knockout\\\\JIqpG\\\\src\\\\..\\\\assets\\\\knockout.js\", \"knockout_punches\"=>\"C:\\\\Users\\\\Maxime\\\\.julia\\\\packages\\\\Knockout\\\\JIqpG\\\\src\\\\..\\\\assets\\\\knockout_punches.js\", \"C:\\\\Users\\\\Maxime\\\\.julia\\\\packages\\\\InteractBase\\\\Q4IkI\\\\src\\\\..\\\\assets\\\\all.js\", \"C:\\\\Users\\\\Maxime\\\\.julia\\\\packages\\\\InteractBase\\\\Q4IkI\\\\src\\\\..\\\\assets\\\\style.css\", \"C:\\\\Users\\\\Maxime\\\\.julia\\\\packages\\\\InteractBulma\\\\Ohu5Y\\\\src\\\\..\\\\assets\\\\main.css\"], Dict{Any,Any}(\"_promises\"=>Dict{Any,Any}(\"importsLoaded\"=>Any[JSString(\"function (ko, koPunches) {\\n    ko.punches.enableAll();\\n    ko.bindingHandlers.numericValue = {\\n        init : function(element, valueAccessor, allBindings, data, context) {\\n            var stringified = ko.observable(ko.unwrap(valueAccessor()));\\n            stringified.subscribe(function(value) {\\n                var val = parseFloat(value);\\n                if (!isNaN(val)) {\\n                    valueAccessor()(val);\\n                }\\n            })\\n            valueAccessor().subscribe(function(value) {\\n                var str = JSON.stringify(value);\\n                if ((str == \\\"0\\\") && ([\\\"-0\\\", \\\"-0.\\\"].indexOf(stringified()) >= 0))\\n                     return;\\n                 if ([\\\"null\\\", \\\"\\\"].indexOf(str) >= 0)\\n                     return;\\n                stringified(str);\\n            })\\n            ko.applyBindingsToNode(element, { value: stringified, valueUpdate: allBindings.get('valueUpdate')}, context);\\n        }\\n    };\\n    var json_data = JSON.parse(\\\"{\\\\\\\"changes\\\\\\\":0,\\\\\\\"value\\\\\\\":151}\\\");\\n    var self = this;\\n    function AppViewModel() {\\n        for (var key in json_data) {\\n            var el = json_data[key];\\n            this[key] = Array.isArray(el) ? ko.observableArray(el) : ko.observable(el);\\n        }\\n        \\n        \\n        [this[\\\"changes\\\"].subscribe((function (val){!(this.valueFromJulia[\\\"changes\\\"]) ? (WebIO.setval({\\\"name\\\":\\\"changes\\\",\\\"scope\\\":\\\"knockout-component-fddc2108-64dc-441f-be9a-4530cb07f790\\\",\\\"id\\\":\\\"ob_02\\\",\\\"type\\\":\\\"observable\\\"},val)) : undefined; return this.valueFromJulia[\\\"changes\\\"]=false}),self),this[\\\"value\\\"].subscribe((function (val){!(this.valueFromJulia[\\\"value\\\"]) ? (WebIO.setval({\\\"name\\\":\\\"value\\\",\\\"scope\\\":\\\"knockout-component-fddc2108-64dc-441f-be9a-4530cb07f790\\\",\\\"id\\\":\\\"ob_01\\\",\\\"type\\\":\\\"observable\\\"},val)) : undefined; return this.valueFromJulia[\\\"value\\\"]=false}),self)]\\n        \\n    }\\n    self.model = new AppViewModel();\\n    self.valueFromJulia = {};\\n    for (var key in json_data) {\\n        self.valueFromJulia[key] = false;\\n    }\\n    ko.applyBindings(self.model, self.dom);\\n}\\n\")]),\"changes\"=>Any[JSString(\"(function (val){return (val!=this.model[\\\"changes\\\"]()) ? (this.valueFromJulia[\\\"changes\\\"]=true, this.model[\\\"changes\\\"](val)) : undefined})\")],\"value\"=>Any[JSString(\"(function (val){return (val!=this.model[\\\"value\\\"]()) ? (this.valueFromJulia[\\\"value\\\"]=true, this.model[\\\"value\\\"](val)) : undefined})\")]), ConnectionPool(Channel{Any}(sz_max:9223372036854775807,sz_curr:3), Set(AbstractConnection[]), Channel{AbstractConnection}(sz_max:32,sz_curr:0))), ##40#42{Scope,String}(Scope(\"knockout-component-fddc2108-64dc-441f-be9a-4530cb07f790\", Node{DOM}(DOM(:html, :div), Any[Node{DOM}(DOM(:html, :div), Any[Node{DOM}(DOM(:html, :label), Any[\"frame_index\"], Dict{Symbol,Any}(:className=>\"interact \",:style=>Dict{Any,Any}(:padding=>\"5px 10px 0px 10px\")), 1)], Dict{Symbol,Any}(:attributes=>Dict(\"style\"=>\"text-align:right;width:18%\")), 2), Node{DOM}(DOM(:html, :div), Any[Node{DOM}(DOM(:html, :input), Any[], Dict{Symbol,Any}(:max=>301,:min=>1,:attributes=>Dict{Any,Any}(:type=>\"range\",Symbol(\"data-bind\")=>\"numericValue: value, valueUpdate: 'input', event: {change : function () {this.changes(this.changes()+1)}}\",\"orient\"=>\"horizontal\"),:step=>1,:className=>\"slider slider is-fullwidth\",:style=>Dict{Any,Any}()), 0)], Dict{Symbol,Any}(:attributes=>Dict(\"style\"=>\"flex-grow:1; margin: 0 2%\")), 1), Node{DOM}(DOM(:html, :div), Any[Node{DOM}(DOM(:html, :p), Any[], Dict{Symbol,Any}(:attributes=>Dict(\"data-bind\"=>\"text: value\")), 0)], Dict{Symbol,Any}(:attributes=>Dict(\"style\"=>\"width:18%\")), 1)], Dict{Symbol,Any}(:attributes=>Dict(\"style\"=>\"display:flex; justify-content:center; align-items:center;\")), 7), Dict{String,Tuple{Observables.AbstractObservable,Union{Nothing, Bool}}}(\"changes\"=>(Observable{Int64}(\"ob_02\", 0, Any[SyncCallback(Scope(#= circular reference @-6 =#), SyncCallback(Scope(#= circular reference @-7 =#), ##40#42{Scope,String}(Scope(#= circular reference @-8 =#), \"changes\")))]), nothing),\"value\"=>(Observable{Int64}(#= circular reference @-8 =#), nothing)), Set(String[]), nothing, Any[\"knockout\"=>\"C:\\\\Users\\\\Maxime\\\\.julia\\\\packages\\\\Knockout\\\\JIqpG\\\\src\\\\..\\\\assets\\\\knockout.js\", \"knockout_punches\"=>\"C:\\\\Users\\\\Maxime\\\\.julia\\\\packages\\\\Knockout\\\\JIqpG\\\\src\\\\..\\\\assets\\\\knockout_punches.js\", \"C:\\\\Users\\\\Maxime\\\\.julia\\\\packages\\\\InteractBase\\\\Q4IkI\\\\src\\\\..\\\\assets\\\\all.js\", \"C:\\\\Users\\\\Maxime\\\\.julia\\\\packages\\\\InteractBase\\\\Q4IkI\\\\src\\\\..\\\\assets\\\\style.css\", \"C:\\\\Users\\\\Maxime\\\\.julia\\\\packages\\\\InteractBulma\\\\Ohu5Y\\\\src\\\\..\\\\assets\\\\main.css\"], Dict{Any,Any}(\"_promises\"=>Dict{Any,Any}(\"importsLoaded\"=>Any[JSString(\"function (ko, koPunches) {\\n    ko.punches.enableAll();\\n    ko.bindingHandlers.numericValue = {\\n        init : function(element, valueAccessor, allBindings, data, context) {\\n            var stringified = ko.observable(ko.unwrap(valueAccessor()));\\n            stringified.subscribe(function(value) {\\n                var val = parseFloat(value);\\n                if (!isNaN(val)) {\\n                    valueAccessor()(val);\\n                }\\n            })\\n            valueAccessor().subscribe(function(value) {\\n                var str = JSON.stringify(value);\\n                if ((str == \\\"0\\\") && ([\\\"-0\\\", \\\"-0.\\\"].indexOf(stringified()) >= 0))\\n                     return;\\n                 if ([\\\"null\\\", \\\"\\\"].indexOf(str) >= 0)\\n                     return;\\n                stringified(str);\\n            })\\n            ko.applyBindingsToNode(element, { value: stringified, valueUpdate: allBindings.get('valueUpdate')}, context);\\n        }\\n    };\\n    var json_data = JSON.parse(\\\"{\\\\\\\"changes\\\\\\\":0,\\\\\\\"value\\\\\\\":151}\\\");\\n    var self = this;\\n    function AppViewModel() {\\n        for (var key in json_data) {\\n            var el = json_data[key];\\n            this[key] = Array.isArray(el) ? ko.observableArray(el) : ko.observable(el);\\n        }\\n        \\n        \\n        [this[\\\"changes\\\"].subscribe((function (val){!(this.valueFromJulia[\\\"changes\\\"]) ? (WebIO.setval({\\\"name\\\":\\\"changes\\\",\\\"scope\\\":\\\"knockout-component-fddc2108-64dc-441f-be9a-4530cb07f790\\\",\\\"id\\\":\\\"ob_02\\\",\\\"type\\\":\\\"observable\\\"},val)) : undefined; return this.valueFromJulia[\\\"changes\\\"]=false}),self),this[\\\"value\\\"].subscribe((function (val){!(this.valueFromJulia[\\\"value\\\"]) ? (WebIO.setval({\\\"name\\\":\\\"value\\\",\\\"scope\\\":\\\"knockout-component-fddc2108-64dc-441f-be9a-4530cb07f790\\\",\\\"id\\\":\\\"ob_01\\\",\\\"type\\\":\\\"observable\\\"},val)) : undefined; return this.valueFromJulia[\\\"value\\\"]=false}),self)]\\n        \\n    }\\n    self.model = new AppViewModel();\\n    self.valueFromJulia = {};\\n    for (var key in json_data) {\\n        self.valueFromJulia[key] = false;\\n    }\\n    ko.applyBindings(self.model, self.dom);\\n}\\n\")]),\"changes\"=>Any[JSString(\"(function (val){return (val!=this.model[\\\"changes\\\"]()) ? (this.valueFromJulia[\\\"changes\\\"]=true, this.model[\\\"changes\\\"](val)) : undefined})\")],\"value\"=>Any[JSString(\"(function (val){return (val!=this.model[\\\"value\\\"]()) ? (this.valueFromJulia[\\\"value\\\"]=true, this.model[\\\"value\\\"](val)) : undefined})\")]), ConnectionPool(Channel{Any}(sz_max:9223372036854775807,sz_curr:3), Set(AbstractConnection[]), Channel{AbstractConnection}(sz_max:32,sz_curr:0))), \"value\"))), #g#15{##16#17{##6#8,Observable{Any}},Tuple{Observable{Int64}}}(##16#17{##6#8,Observable{Any}}(##6#8(), Observable{Any}(\"ob_03\", CairoSurfaceBase{UInt32}(Ptr{Nothing} @0x0000000021d4a840, 1000.0, 600.0), Any[])), (Observable{Int64}(#= circular reference @-4 =#),))]), Scope(\"knockout-component-fddc2108-64dc-441f-be9a-4530cb07f790\", Node{DOM}(DOM(:html, :div), Any[Node{DOM}(DOM(:html, :div), Any[Node{DOM}(DOM(:html, :label), Any[\"frame_index\"], Dict{Symbol,Any}(:className=>\"interact \",:style=>Dict{Any,Any}(:padding=>\"5px 10px 0px 10px\")), 1)], Dict{Symbol,Any}(:attributes=>Dict(\"style\"=>\"text-align:right;width:18%\")), 2), Node{DOM}(DOM(:html, :div), Any[Node{DOM}(DOM(:html, :input), Any[], Dict{Symbol,Any}(:max=>301,:min=>1,:attributes=>Dict{Any,Any}(:type=>\"range\",Symbol(\"data-bind\")=>\"numericValue: value, valueUpdate: 'input', event: {change : function () {this.changes(this.changes()+1)}}\",\"orient\"=>\"horizontal\"),:step=>1,:className=>\"slider slider is-fullwidth\",:style=>Dict{Any,Any}()), 0)], Dict{Symbol,Any}(:attributes=>Dict(\"style\"=>\"flex-grow:1; margin: 0 2%\")), 1), Node{DOM}(DOM(:html, :div), Any[Node{DOM}(DOM(:html, :p), Any[], Dict{Symbol,Any}(:attributes=>Dict(\"data-bind\"=>\"text: value\")), 0)], Dict{Symbol,Any}(:attributes=>Dict(\"style\"=>\"width:18%\")), 1)], Dict{Symbol,Any}(:attributes=>Dict(\"style\"=>\"display:flex; justify-content:center; align-items:center;\")), 7), Dict{String,Tuple{Observables.AbstractObservable,Union{Nothing, Bool}}}(\"changes\"=>(Observable{Int64}(\"ob_02\", 0, Any[SyncCallback(Scope(#= circular reference @-6 =#), SyncCallback(Scope(#= circular reference @-7 =#), ##40#42{Scope,String}(Scope(#= circular reference @-8 =#), \"changes\")))]), nothing),\"value\"=>(Observable{Int64}(\"ob_01\", 151, Any[SyncCallback(Scope(#= circular reference @-6 =#), SyncCallback(Scope(#= circular reference @-7 =#), ##40#42{Scope,String}(Scope(#= circular reference @-8 =#), \"value\"))), #g#15{##16#17{##6#8,Observable{Any}},Tuple{Observable{Int64}}}(##16#17{##6#8,Observable{Any}}(##6#8(), Observable{Any}(\"ob_03\", CairoSurfaceBase{UInt32}(Ptr{Nothing} @0x0000000021d4a840, 1000.0, 600.0), Any[])), (Observable{Int64}(#= circular reference @-4 =#),))]), nothing)), Set(String[]), nothing, Any[\"knockout\"=>\"C:\\\\Users\\\\Maxime\\\\.julia\\\\packages\\\\Knockout\\\\JIqpG\\\\src\\\\..\\\\assets\\\\knockout.js\", \"knockout_punches\"=>\"C:\\\\Users\\\\Maxime\\\\.julia\\\\packages\\\\Knockout\\\\JIqpG\\\\src\\\\..\\\\assets\\\\knockout_punches.js\", \"C:\\\\Users\\\\Maxime\\\\.julia\\\\packages\\\\InteractBase\\\\Q4IkI\\\\src\\\\..\\\\assets\\\\all.js\", \"C:\\\\Users\\\\Maxime\\\\.julia\\\\packages\\\\InteractBase\\\\Q4IkI\\\\src\\\\..\\\\assets\\\\style.css\", \"C:\\\\Users\\\\Maxime\\\\.julia\\\\packages\\\\InteractBulma\\\\Ohu5Y\\\\src\\\\..\\\\assets\\\\main.css\"], Dict{Any,Any}(\"_promises\"=>Dict{Any,Any}(\"importsLoaded\"=>Any[JSString(\"function (ko, koPunches) {\\n    ko.punches.enableAll();\\n    ko.bindingHandlers.numericValue = {\\n        init : function(element, valueAccessor, allBindings, data, context) {\\n            var stringified = ko.observable(ko.unwrap(valueAccessor()));\\n            stringified.subscribe(function(value) {\\n                var val = parseFloat(value);\\n                if (!isNaN(val)) {\\n                    valueAccessor()(val);\\n                }\\n            })\\n            valueAccessor().subscribe(function(value) {\\n                var str = JSON.stringify(value);\\n                if ((str == \\\"0\\\") && ([\\\"-0\\\", \\\"-0.\\\"].indexOf(stringified()) >= 0))\\n                     return;\\n                 if ([\\\"null\\\", \\\"\\\"].indexOf(str) >= 0)\\n                     return;\\n                stringified(str);\\n            })\\n            ko.applyBindingsToNode(element, { value: stringified, valueUpdate: allBindings.get('valueUpdate')}, context);\\n        }\\n    };\\n    var json_data = JSON.parse(\\\"{\\\\\\\"changes\\\\\\\":0,\\\\\\\"value\\\\\\\":151}\\\");\\n    var self = this;\\n    function AppViewModel() {\\n        for (var key in json_data) {\\n            var el = json_data[key];\\n            this[key] = Array.isArray(el) ? ko.observableArray(el) : ko.observable(el);\\n        }\\n        \\n        \\n        [this[\\\"changes\\\"].subscribe((function (val){!(this.valueFromJulia[\\\"changes\\\"]) ? (WebIO.setval({\\\"name\\\":\\\"changes\\\",\\\"scope\\\":\\\"knockout-component-fddc2108-64dc-441f-be9a-4530cb07f790\\\",\\\"id\\\":\\\"ob_02\\\",\\\"type\\\":\\\"observable\\\"},val)) : undefined; return this.valueFromJulia[\\\"changes\\\"]=false}),self),this[\\\"value\\\"].subscribe((function (val){!(this.valueFromJulia[\\\"value\\\"]) ? (WebIO.setval({\\\"name\\\":\\\"value\\\",\\\"scope\\\":\\\"knockout-component-fddc2108-64dc-441f-be9a-4530cb07f790\\\",\\\"id\\\":\\\"ob_01\\\",\\\"type\\\":\\\"observable\\\"},val)) : undefined; return this.valueFromJulia[\\\"value\\\"]=false}),self)]\\n        \\n    }\\n    self.model = new AppViewModel();\\n    self.valueFromJulia = {};\\n    for (var key in json_data) {\\n        self.valueFromJulia[key] = false;\\n    }\\n    ko.applyBindings(self.model, self.dom);\\n}\\n\")]),\"changes\"=>Any[JSString(\"(function (val){return (val!=this.model[\\\"changes\\\"]()) ? (this.valueFromJulia[\\\"changes\\\"]=true, this.model[\\\"changes\\\"](val)) : undefined})\")],\"value\"=>Any[JSString(\"(function (val){return (val!=this.model[\\\"value\\\"]()) ? (this.valueFromJulia[\\\"value\\\"]=true, this.model[\\\"value\\\"](val)) : undefined})\")]), ConnectionPool(Channel{Any}(sz_max:9223372036854775807,sz_curr:3), Set(AbstractConnection[]), Channel{AbstractConnection}(sz_max:32,sz_curr:0))), ##52#53{#dom#15{##dom#13#14{Dict{Any,Any},DOM}},typeof(scope)}(#dom#15{##dom#13#14{Dict{Any,Any},DOM}}(##dom#13#14{Dict{Any,Any},DOM}(Dict{Any,Any}(:className=>\"field\"), DOM(:html, :div))), scope))), Observable{Any}(\"ob_03\", Cairo.CairoSurfaceBase{UInt32}(Ptr{Nothing} @0x0000000021d4a840, 1000.0, 600.0), Any[]), nothing, getfield(Main, Symbol(\"##7#9\")){Observable{Any}}(Observable{Any}(\"ob_03\", Cairo.CairoSurfaceBase{UInt32}(Ptr{Nothing} @0x0000000021d4a840, 1000.0, 600.0), Any[])))"
      ]
     },
     "execution_count": 11,
     "metadata": {},
     "output_type": "execute_result"
    }
   ],
   "source": [
    "using Interact\n",
    "@manipulate for frame_index in 1 : nframes(rec)\n",
    "    render(rec[frame_index-nframes(rec)], env, cam=cam)\n",
    "end"
   ]
  },
  {
   "cell_type": "code",
   "execution_count": null,
   "metadata": {},
   "outputs": [],
   "source": []
  }
 ],
 "metadata": {
  "kernelspec": {
   "display_name": "Julia 1.0.0",
   "language": "julia",
   "name": "julia-1.0"
  },
  "language_info": {
   "file_extension": ".jl",
   "mimetype": "application/julia",
   "name": "julia",
   "version": "1.0.0"
  }
 },
 "nbformat": 4,
 "nbformat_minor": 2
}
