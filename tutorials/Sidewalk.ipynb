{
 "cells": [
  {
   "cell_type": "markdown",
   "metadata": {},
   "source": [
    "# Sidewalk"
   ]
  },
  {
   "cell_type": "markdown",
   "metadata": {},
   "source": [
    "In this notebook, we will be creating a sidewalk environment in which pedestrians can walk along the sidewalk and cross the street as cars pass."
   ]
  },
  {
   "cell_type": "code",
   "execution_count": 1,
   "metadata": {
    "scrolled": false
   },
   "outputs": [
    {
     "data": {
      "text/html": [
       "    <script class='js-collapse-script'>\n",
       "        var curMatch =\n",
       "            window.location.href\n",
       "            .match(/(.*?)\\/notebooks\\/.*\\.ipynb/);\n",
       "\n",
       "        curMatch = curMatch ||\n",
       "            window.location.href\n",
       "            .match(/(.*?)\\/apps\\/.*\\.ipynb/);\n",
       "\n",
       "        if ( curMatch ) {\n",
       "            $('head').append('<base href=\"' + curMatch[1] + '/\">');\n",
       "        }\n",
       "    </script>\n"
      ],
      "text/plain": [
       "HTML{String}(\"    <script class='js-collapse-script'>\\n        var curMatch =\\n            window.location.href\\n            .match(/(.*?)\\\\/notebooks\\\\/.*\\\\.ipynb/);\\n\\n        curMatch = curMatch ||\\n            window.location.href\\n            .match(/(.*?)\\\\/apps\\\\/.*\\\\.ipynb/);\\n\\n        if ( curMatch ) {\\n            \\$('head').append('<base href=\\\"' + curMatch[1] + '/\\\">');\\n        }\\n    </script>\\n\")"
      ]
     },
     "metadata": {},
     "output_type": "display_data"
    },
    {
     "data": {
      "text/html": [
       "<script class='js-collapse-script' src='/assetserver/468e3c5cbff4bba2f7f3ca28e0afa7cac8df1be0-assets/webio/dist/bundle.js'></script>"
      ],
      "text/plain": [
       "HTML{String}(\"<script class='js-collapse-script' src='/assetserver/468e3c5cbff4bba2f7f3ca28e0afa7cac8df1be0-assets/webio/dist/bundle.js'></script>\")"
      ]
     },
     "metadata": {},
     "output_type": "display_data"
    },
    {
     "data": {
      "text/html": [
       "<script class='js-collapse-script' src='/assetserver/468e3c5cbff4bba2f7f3ca28e0afa7cac8df1be0-assets/providers/ijulia_setup.js'></script>"
      ],
      "text/plain": [
       "HTML{String}(\"<script class='js-collapse-script' src='/assetserver/468e3c5cbff4bba2f7f3ca28e0afa7cac8df1be0-assets/providers/ijulia_setup.js'></script>\")"
      ]
     },
     "metadata": {},
     "output_type": "display_data"
    },
    {
     "data": {
      "text/html": [
       "  <script class='js-collapse-script'>\n",
       "    $('.js-collapse-script').parent('.output_subarea').css('padding', '0');\n",
       "  </script>\n"
      ],
      "text/plain": [
       "HTML{String}(\"  <script class='js-collapse-script'>\\n    \\$('.js-collapse-script').parent('.output_subarea').css('padding', '0');\\n  </script>\\n\")"
      ]
     },
     "metadata": {},
     "output_type": "display_data"
    }
   ],
   "source": [
    "using Parameters\n",
    "using AutomotiveDrivingModels\n",
    "using AutoViz\n",
    "using Interact"
   ]
  },
  {
   "cell_type": "code",
   "execution_count": 2,
   "metadata": {},
   "outputs": [
    {
     "data": {
      "text/plain": [
       "2"
      ]
     },
     "execution_count": 2,
     "metadata": {},
     "output_type": "execute_result"
    }
   ],
   "source": [
    "# Define sidewalk IDs\n",
    "const TOP = 1\n",
    "const BOTTOM = 2"
   ]
  },
  {
   "cell_type": "markdown",
   "metadata": {},
   "source": [
    "### Creating the Environment\n",
    "Here, we create a new type of environment called SidewalkEnv. It consists of a roadway, crosswalk, and sidewalk. A sidewalk is a Vector of Lanes that run alongside the road."
   ]
  },
  {
   "cell_type": "code",
   "execution_count": 3,
   "metadata": {},
   "outputs": [
    {
     "data": {
      "text/plain": [
       "SidewalkEnv"
      ]
     },
     "execution_count": 3,
     "metadata": {},
     "output_type": "execute_result"
    }
   ],
   "source": [
    "@with_kw mutable struct SidewalkEnv\n",
    "    roadway::Roadway\n",
    "    crosswalk::Lane\n",
    "    sidewalk::Vector{Lane}\n",
    "end"
   ]
  },
  {
   "cell_type": "markdown",
   "metadata": {},
   "source": [
    "#### Defining the Sidewalk\n",
    "We define the sidewalk's parameters."
   ]
  },
  {
   "cell_type": "code",
   "execution_count": 4,
   "metadata": {},
   "outputs": [
    {
     "data": {
      "text/plain": [
       "6.0"
      ]
     },
     "execution_count": 4,
     "metadata": {},
     "output_type": "execute_result"
    }
   ],
   "source": [
    "# Geometry parameters\n",
    "roadway_length = 100.\n",
    "crosswalk_length = 15.\n",
    "crosswalk_width = 6.0\n",
    "crosswalk_pos = roadway_length/2\n",
    "sidewalk_width = 3.0\n",
    "sidewalk_pos = crosswalk_length/2 - sidewalk_width / 2"
   ]
  },
  {
   "cell_type": "markdown",
   "metadata": {},
   "source": [
    "Now we create the sidewalk environment. \n",
    "Our environment will consist of:\n",
    "* 1-way road with 2 lanes\n",
    "* Unsignalized zebra crosswalk perpendicular to the road\n",
    "* Sidewalks above and below the road"
   ]
  },
  {
   "cell_type": "code",
   "execution_count": 5,
   "metadata": {},
   "outputs": [],
   "source": [
    "# Generate straight roadway of length roadway_length with 2 lanes.\n",
    "# Returns a Roadway type (Array of segments).\n",
    "# There is already a method to generate a simple straight roadway, which we use here.\n",
    "roadway = gen_straight_roadway(2, roadway_length) \n",
    "\n",
    "# Generate the crosswalk.\n",
    "# Our crosswalk does not have a predefined method for generation, so we define it with a LaneTag and a curve.\n",
    "n_samples = 2 # for curve generation\n",
    "crosswalk = Lane(LaneTag(2,1), gen_straight_curve(VecE2(crosswalk_pos, -crosswalk_length/2),\n",
    "                                                  VecE2(crosswalk_pos, crosswalk_length/2),\n",
    "                                                   n_samples), width = crosswalk_width)\n",
    "cw_segment = RoadSegment(2, [crosswalk])\n",
    "push!(roadway.segments, cw_segment) # Append the crosswalk to the roadway\n",
    "\n",
    "# Generate the sidewalk.\n",
    "top_sidewalk = Lane(LaneTag(3, TOP), gen_straight_curve(VecE2(0., sidewalk_pos),\n",
    "                                                      VecE2(roadway_length, sidewalk_pos),\n",
    "                                                        n_samples), width = sidewalk_width)\n",
    "bottom_sidewalk = Lane(LaneTag(3, BOTTOM), gen_straight_curve(VecE2(0., -(sidewalk_pos - sidewalk_width)),\n",
    "                                                          VecE2(roadway_length, -(sidewalk_pos - sidewalk_width)),\n",
    "                                                            n_samples), width = sidewalk_width) \n",
    "    # Note: we subtract the sidewalk_width from the sidewalk position so that the edge is flush with the road.\n",
    "\n",
    "\n",
    "sw_segment = RoadSegment(3, [top_sidewalk, bottom_sidewalk])\n",
    "push!(roadway.segments, sw_segment)\n",
    "\n",
    "# Initialize crosswalk environment\n",
    "env = SidewalkEnv(roadway, crosswalk, [top_sidewalk, bottom_sidewalk]);"
   ]
  },
  {
   "cell_type": "markdown",
   "metadata": {},
   "source": [
    "Since there is no defined render! method for the crosswalk and the sidewalk, we must define it ourselves."
   ]
  },
  {
   "cell_type": "code",
   "execution_count": 6,
   "metadata": {},
   "outputs": [],
   "source": [
    "function AutoViz.render!(rendermodel::RenderModel, env::SidewalkEnv)\n",
    "    # Render sidewalk\n",
    "    for sw in env.sidewalk\n",
    "        curve = sw.curve\n",
    "        n = length(curve)\n",
    "        pts = Array{Float64}(undef, 2, n)\n",
    "        for (i,pt) in enumerate(curve)\n",
    "            pts[1,i] = pt.pos.x\n",
    "            pts[2,i] = pt.pos.y\n",
    "        end\n",
    "        add_instruction!(rendermodel, render_line, (pts, colorant\"grey\", sw.width, Cairo.CAIRO_LINE_CAP_BUTT))\n",
    "    end\n",
    "    \n",
    "    # Render roadway\n",
    "    roadway = gen_straight_roadway(2, roadway_length)\n",
    "    render!(rendermodel, roadway)\n",
    "    \n",
    "    # Render crosswalk\n",
    "    curve = env.crosswalk.curve\n",
    "    n = length(curve)\n",
    "    pts = Array{Float64}(undef, 2, n)\n",
    "    for (i,pt) in enumerate(curve)\n",
    "        pts[1,i] = pt.pos.x\n",
    "        pts[2,i] = pt.pos.y\n",
    "    end\n",
    "\n",
    "    # We can add render instructions from AutoViz.\n",
    "    # Here we want the crosswalk to appear as a white-striped zebra crossing rather than a road.\n",
    "    add_instruction!(rendermodel, render_dashed_line, (pts, colorant\"white\", env.crosswalk.width, 1.0, 1.0, 0.0, Cairo.CAIRO_LINE_CAP_BUTT))\n",
    "\n",
    "    return rendermodel\n",
    "end"
   ]
  },
  {
   "cell_type": "code",
   "execution_count": 7,
   "metadata": {},
   "outputs": [],
   "source": [
    "cam = FitToContentCamera(0.0)\n",
    "render(Scene(), env, cam = cam);"
   ]
  },
  {
   "cell_type": "markdown",
   "metadata": {},
   "source": [
    "Now we can define our pedestrian."
   ]
  },
  {
   "cell_type": "code",
   "execution_count": 8,
   "metadata": {},
   "outputs": [
    {
     "data": {
      "text/plain": [
       "VehicleDef(PEDESTRIAN, 1.000, 1.000)"
      ]
     },
     "execution_count": 8,
     "metadata": {},
     "output_type": "execute_result"
    }
   ],
   "source": [
    "# We define its class and the dimensions of its bounding box.\n",
    "const PEDESTRIAN_DEF = VehicleDef(AgentClass.PEDESTRIAN, 1.0, 1.0)"
   ]
  },
  {
   "cell_type": "markdown",
   "metadata": {},
   "source": [
    "We assign models to each agent in the scene."
   ]
  },
  {
   "cell_type": "code",
   "execution_count": 9,
   "metadata": {
    "scrolled": false
   },
   "outputs": [
    {
     "data": {
      "text/plain": [
       "LatLonSeparableDriver(ProportionalLaneTracker(NaN, NaN, 3.0, 2.0), IntelligentDriverModel\n",
       "  a: Float64 NaN\n",
       "  σ: Float64 NaN\n",
       "  k_spd: Float64 1.0\n",
       "  δ: Float64 4.0\n",
       "  T: Float64 1.5\n",
       "  v_des: Float64 29.0\n",
       "  s_min: Float64 5.0\n",
       "  a_max: Float64 3.0\n",
       "  d_cmf: Float64 2.0\n",
       "  d_max: Float64 9.0\n",
       ")"
      ]
     },
     "execution_count": 9,
     "metadata": {},
     "output_type": "execute_result"
    }
   ],
   "source": [
    "timestep = 0.1\n",
    "\n",
    "# Crossing pedestrian definition\n",
    "ped_init_state = VehicleState(VecSE2(49.0,-3.0,0.), env.sidewalk[BOTTOM], roadway, 1.3)\n",
    "ped = Vehicle(ped_init_state, PEDESTRIAN_DEF, 1)\n",
    "\n",
    "# Car definition\n",
    "car_initial_state = VehicleState(VecSE2(0.0, 0., 0.), roadway.segments[1].lanes[1],roadway, 8.0)\n",
    "car = Vehicle(car_initial_state, VehicleDef(), 2)\n",
    "\n",
    "scene = Scene()\n",
    "push!(scene, ped)\n",
    "push!(scene, car)\n",
    "\n",
    "# Define a model for each entity present in the scene\n",
    "models = Dict{Int, DriverModel}()\n",
    "\n",
    "ped_id = 1\n",
    "car_id = 2\n",
    "\n",
    "models[ped_id] = SidewalkPedestrianModel(timestep=timestep, \n",
    "                                            crosswalk=env.crosswalk,\n",
    "                                            sw_origin = env.sidewalk[BOTTOM],\n",
    "                                            sw_dest = env.sidewalk[TOP]\n",
    "                                            )\n",
    "\n",
    "models[car_id] = \n",
    "LatLonSeparableDriver( # produces LatLonAccels\n",
    "        ProportionalLaneTracker(), # lateral model\n",
    "        IntelligentDriverModel(), # longitudinal model\n",
    ")"
   ]
  },
  {
   "cell_type": "markdown",
   "metadata": {},
   "source": [
    "### Simulate\n",
    "Finally, we simulate the scene."
   ]
  },
  {
   "cell_type": "code",
   "execution_count": 10,
   "metadata": {},
   "outputs": [
    {
     "data": {
      "image/png": "[encoded data removed]",
      "text/plain": [
       "Cairo.CairoSurfaceBase{UInt32}(Ptr{Nothing} @0x0000000024a913b0, 1000.0, 600.0)"
      ]
     },
     "execution_count": 10,
     "metadata": {},
     "output_type": "execute_result"
    }
   ],
   "source": [
    "nticks = 300\n",
    "rec = SceneRecord(nticks+1, timestep)\n",
    "# Execute the simulation\n",
    "simulate!(rec, scene, roadway, models, nticks)\n",
    "render(rec[0], env, cam=cam)"
   ]
  },
  {
   "cell_type": "markdown",
   "metadata": {},
   "source": [
    "We can use a slider to scroll through each frame in the simulation. This usually takes less time than rendering a video."
   ]
  },
  {
   "cell_type": "code",
   "execution_count": 11,
   "metadata": {},
   "outputs": [
    {
     "data": {
      "text/html": [
       "<div class='display:none'></div><unsafe-script style='display:none'>\n",
       "WebIO.mount(this.previousSibling,{&quot;props&quot;:{},&quot;nodeType&quot;:&quot;DOM&quot;,&quot;type&quot;:&quot;node&quot;,&quot;instanceArgs&quot;:{&quot;namespace&quot;:&quot;html&quot;,&quot;tag&quot;:&quot;div&quot;},&quot;children&quot;:[{&quot;props&quot;:{&quot;className&quot;:&quot;field interact-widget&quot;},&quot;nodeType&quot;:&quot;DOM&quot;,&quot;type&quot;:&quot;node&quot;,&quot;instanceArgs&quot;:{&quot;namespace&quot;:&quot;html&quot;,&quot;tag&quot;:&quot;div&quot;},&quot;children&quot;:[{&quot;props&quot;:{},&quot;nodeType&quot;:&quot;Scope&quot;,&quot;type&quot;:&quot;node&quot;,&quot;instanceArgs&quot;:{&quot;imports&quot;:{&quot;data&quot;:[{&quot;name&quot;:&quot;knockout&quot;,&quot;type&quot;:&quot;js&quot;,&quot;url&quot;:&quot;/assetserver/3c3d2b07b46608114332f37496ba820ade566a2f-knockout.js&quot;},{&quot;name&quot;:&quot;knockout_punches&quot;,&quot;type&quot;:&quot;js&quot;,&quot;url&quot;:&quot;/assetserver/8acdbff2e10bfe874baf040243bd95c737a56895-knockout_punches.js&quot;},{&quot;name&quot;:null,&quot;type&quot;:&quot;js&quot;,&quot;url&quot;:&quot;/assetserver/5af6334e087d2aec03481f16a01dcbe90bd23965-all.js&quot;},{&quot;name&quot;:null,&quot;type&quot;:&quot;css&quot;,&quot;url&quot;:&quot;/assetserver/113e536c8731df93a2caecc62f06ffc3f69f348e-style.css&quot;},{&quot;name&quot;:null,&quot;type&quot;:&quot;css&quot;,&quot;url&quot;:&quot;/assetserver/c4a523eb53cade5f7e9de8c384eed9a4b180b545-main.css&quot;}],&quot;type&quot;:&quot;async_block&quot;},&quot;id&quot;:&quot;knockout-component-ee4b5cd4-b88a-4316-9a19-317fbfd72118&quot;,&quot;handlers&quot;:{&quot;_promises&quot;:{&quot;importsLoaded&quot;:[function (ko, koPunches) {\n",
       "    ko.punches.enableAll();\n",
       "    ko.bindingHandlers.numericValue = {\n",
       "        init : function(element, valueAccessor, allBindings, data, context) {\n",
       "            var stringified = ko.observable(ko.unwrap(valueAccessor()));\n",
       "            stringified.subscribe(function(value) {\n",
       "                var val = parseFloat(value);\n",
       "                if (!isNaN(val)) {\n",
       "                    valueAccessor()(val);\n",
       "                }\n",
       "            })\n",
       "            valueAccessor().subscribe(function(value) {\n",
       "                var str = JSON.stringify(value);\n",
       "                if ((str == &quot;0&quot;) &amp;&amp; ([&quot;-0&quot;, &quot;-0.&quot;].indexOf(stringified()) &gt;= 0))\n",
       "                     return;\n",
       "                 if ([&quot;null&quot;, &quot;&quot;].indexOf(str) &gt;= 0)\n",
       "                     return;\n",
       "                stringified(str);\n",
       "            })\n",
       "            ko.applyBindingsToNode(element, { value: stringified, valueUpdate: allBindings.get(&#39;valueUpdate&#39;)}, context);\n",
       "        }\n",
       "    };\n",
       "    var json_data = JSON.parse(&quot;{\\&quot;formatted_vals\\&quot;:[\\&quot;1\\&quot;,\\&quot;2\\&quot;,\\&quot;3\\&quot;,\\&quot;4\\&quot;,\\&quot;5\\&quot;,\\&quot;6\\&quot;,\\&quot;7\\&quot;,\\&quot;8\\&quot;,\\&quot;9\\&quot;,\\&quot;10\\&quot;,\\&quot;11\\&quot;,\\&quot;12\\&quot;,\\&quot;13\\&quot;,\\&quot;14\\&quot;,\\&quot;15\\&quot;,\\&quot;16\\&quot;,\\&quot;17\\&quot;,\\&quot;18\\&quot;,\\&quot;19\\&quot;,\\&quot;20\\&quot;,\\&quot;21\\&quot;,\\&quot;22\\&quot;,\\&quot;23\\&quot;,\\&quot;24\\&quot;,\\&quot;25\\&quot;,\\&quot;26\\&quot;,\\&quot;27\\&quot;,\\&quot;28\\&quot;,\\&quot;29\\&quot;,\\&quot;30\\&quot;,\\&quot;31\\&quot;,\\&quot;32\\&quot;,\\&quot;33\\&quot;,\\&quot;34\\&quot;,\\&quot;35\\&quot;,\\&quot;36\\&quot;,\\&quot;37\\&quot;,\\&quot;38\\&quot;,\\&quot;39\\&quot;,\\&quot;40\\&quot;,\\&quot;41\\&quot;,\\&quot;42\\&quot;,\\&quot;43\\&quot;,\\&quot;44\\&quot;,\\&quot;45\\&quot;,\\&quot;46\\&quot;,\\&quot;47\\&quot;,\\&quot;48\\&quot;,\\&quot;49\\&quot;,\\&quot;50\\&quot;,\\&quot;51\\&quot;,\\&quot;52\\&quot;,\\&quot;53\\&quot;,\\&quot;54\\&quot;,\\&quot;55\\&quot;,\\&quot;56\\&quot;,\\&quot;57\\&quot;,\\&quot;58\\&quot;,\\&quot;59\\&quot;,\\&quot;60\\&quot;,\\&quot;61\\&quot;,\\&quot;62\\&quot;,\\&quot;63\\&quot;,\\&quot;64\\&quot;,\\&quot;65\\&quot;,\\&quot;66\\&quot;,\\&quot;67\\&quot;,\\&quot;68\\&quot;,\\&quot;69\\&quot;,\\&quot;70\\&quot;,\\&quot;71\\&quot;,\\&quot;72\\&quot;,\\&quot;73\\&quot;,\\&quot;74\\&quot;,\\&quot;75\\&quot;,\\&quot;76\\&quot;,\\&quot;77\\&quot;,\\&quot;78\\&quot;,\\&quot;79\\&quot;,\\&quot;80\\&quot;,\\&quot;81\\&quot;,\\&quot;82\\&quot;,\\&quot;83\\&quot;,\\&quot;84\\&quot;,\\&quot;85\\&quot;,\\&quot;86\\&quot;,\\&quot;87\\&quot;,\\&quot;88\\&quot;,\\&quot;89\\&quot;,\\&quot;90\\&quot;,\\&quot;91\\&quot;,\\&quot;92\\&quot;,\\&quot;93\\&quot;,\\&quot;94\\&quot;,\\&quot;95\\&quot;,\\&quot;96\\&quot;,\\&quot;97\\&quot;,\\&quot;98\\&quot;,\\&quot;99\\&quot;,\\&quot;100\\&quot;,\\&quot;101\\&quot;,\\&quot;102\\&quot;,\\&quot;103\\&quot;,\\&quot;104\\&quot;,\\&quot;105\\&quot;,\\&quot;106\\&quot;,\\&quot;107\\&quot;,\\&quot;108\\&quot;,\\&quot;109\\&quot;,\\&quot;110\\&quot;,\\&quot;111\\&quot;,\\&quot;112\\&quot;,\\&quot;113\\&quot;,\\&quot;114\\&quot;,\\&quot;115\\&quot;,\\&quot;116\\&quot;,\\&quot;117\\&quot;,\\&quot;118\\&quot;,\\&quot;119\\&quot;,\\&quot;120\\&quot;,\\&quot;121\\&quot;,\\&quot;122\\&quot;,\\&quot;123\\&quot;,\\&quot;124\\&quot;,\\&quot;125\\&quot;,\\&quot;126\\&quot;,\\&quot;127\\&quot;,\\&quot;128\\&quot;,\\&quot;129\\&quot;,\\&quot;130\\&quot;,\\&quot;131\\&quot;,\\&quot;132\\&quot;,\\&quot;133\\&quot;,\\&quot;134\\&quot;,\\&quot;135\\&quot;,\\&quot;136\\&quot;,\\&quot;137\\&quot;,\\&quot;138\\&quot;,\\&quot;139\\&quot;,\\&quot;140\\&quot;,\\&quot;141\\&quot;,\\&quot;142\\&quot;,\\&quot;143\\&quot;,\\&quot;144\\&quot;,\\&quot;145\\&quot;,\\&quot;146\\&quot;,\\&quot;147\\&quot;,\\&quot;148\\&quot;,\\&quot;149\\&quot;,\\&quot;150\\&quot;,\\&quot;151\\&quot;,\\&quot;152\\&quot;,\\&quot;153\\&quot;,\\&quot;154\\&quot;,\\&quot;155\\&quot;,\\&quot;156\\&quot;,\\&quot;157\\&quot;,\\&quot;158\\&quot;,\\&quot;159\\&quot;,\\&quot;160\\&quot;,\\&quot;161\\&quot;,\\&quot;162\\&quot;,\\&quot;163\\&quot;,\\&quot;164\\&quot;,\\&quot;165\\&quot;,\\&quot;166\\&quot;,\\&quot;167\\&quot;,\\&quot;168\\&quot;,\\&quot;169\\&quot;,\\&quot;170\\&quot;,\\&quot;171\\&quot;,\\&quot;172\\&quot;,\\&quot;173\\&quot;,\\&quot;174\\&quot;,\\&quot;175\\&quot;,\\&quot;176\\&quot;,\\&quot;177\\&quot;,\\&quot;178\\&quot;,\\&quot;179\\&quot;,\\&quot;180\\&quot;,\\&quot;181\\&quot;,\\&quot;182\\&quot;,\\&quot;183\\&quot;,\\&quot;184\\&quot;,\\&quot;185\\&quot;,\\&quot;186\\&quot;,\\&quot;187\\&quot;,\\&quot;188\\&quot;,\\&quot;189\\&quot;,\\&quot;190\\&quot;,\\&quot;191\\&quot;,\\&quot;192\\&quot;,\\&quot;193\\&quot;,\\&quot;194\\&quot;,\\&quot;195\\&quot;,\\&quot;196\\&quot;,\\&quot;197\\&quot;,\\&quot;198\\&quot;,\\&quot;199\\&quot;,\\&quot;200\\&quot;,\\&quot;201\\&quot;,\\&quot;202\\&quot;,\\&quot;203\\&quot;,\\&quot;204\\&quot;,\\&quot;205\\&quot;,\\&quot;206\\&quot;,\\&quot;207\\&quot;,\\&quot;208\\&quot;,\\&quot;209\\&quot;,\\&quot;210\\&quot;,\\&quot;211\\&quot;,\\&quot;212\\&quot;,\\&quot;213\\&quot;,\\&quot;214\\&quot;,\\&quot;215\\&quot;,\\&quot;216\\&quot;,\\&quot;217\\&quot;,\\&quot;218\\&quot;,\\&quot;219\\&quot;,\\&quot;220\\&quot;,\\&quot;221\\&quot;,\\&quot;222\\&quot;,\\&quot;223\\&quot;,\\&quot;224\\&quot;,\\&quot;225\\&quot;,\\&quot;226\\&quot;,\\&quot;227\\&quot;,\\&quot;228\\&quot;,\\&quot;229\\&quot;,\\&quot;230\\&quot;,\\&quot;231\\&quot;,\\&quot;232\\&quot;,\\&quot;233\\&quot;,\\&quot;234\\&quot;,\\&quot;235\\&quot;,\\&quot;236\\&quot;,\\&quot;237\\&quot;,\\&quot;238\\&quot;,\\&quot;239\\&quot;,\\&quot;240\\&quot;,\\&quot;241\\&quot;,\\&quot;242\\&quot;,\\&quot;243\\&quot;,\\&quot;244\\&quot;,\\&quot;245\\&quot;,\\&quot;246\\&quot;,\\&quot;247\\&quot;,\\&quot;248\\&quot;,\\&quot;249\\&quot;,\\&quot;250\\&quot;,\\&quot;251\\&quot;,\\&quot;252\\&quot;,\\&quot;253\\&quot;,\\&quot;254\\&quot;,\\&quot;255\\&quot;,\\&quot;256\\&quot;,\\&quot;257\\&quot;,\\&quot;258\\&quot;,\\&quot;259\\&quot;,\\&quot;260\\&quot;,\\&quot;261\\&quot;,\\&quot;262\\&quot;,\\&quot;263\\&quot;,\\&quot;264\\&quot;,\\&quot;265\\&quot;,\\&quot;266\\&quot;,\\&quot;267\\&quot;,\\&quot;268\\&quot;,\\&quot;269\\&quot;,\\&quot;270\\&quot;,\\&quot;271\\&quot;,\\&quot;272\\&quot;,\\&quot;273\\&quot;,\\&quot;274\\&quot;,\\&quot;275\\&quot;,\\&quot;276\\&quot;,\\&quot;277\\&quot;,\\&quot;278\\&quot;,\\&quot;279\\&quot;,\\&quot;280\\&quot;,\\&quot;281\\&quot;,\\&quot;282\\&quot;,\\&quot;283\\&quot;,\\&quot;284\\&quot;,\\&quot;285\\&quot;,\\&quot;286\\&quot;,\\&quot;287\\&quot;,\\&quot;288\\&quot;,\\&quot;289\\&quot;,\\&quot;290\\&quot;,\\&quot;291\\&quot;,\\&quot;292\\&quot;,\\&quot;293\\&quot;,\\&quot;294\\&quot;,\\&quot;295\\&quot;,\\&quot;296\\&quot;,\\&quot;297\\&quot;,\\&quot;298\\&quot;,\\&quot;299\\&quot;,\\&quot;300\\&quot;,\\&quot;301\\&quot;],\\&quot;changes\\&quot;:0,\\&quot;indexString\\&quot;:\\&quot;151\\&quot;,\\&quot;index\\&quot;:151}&quot;);\n",
       "    var self = this;\n",
       "    function AppViewModel() {\n",
       "        for (var key in json_data) {\n",
       "            var el = json_data[key];\n",
       "            this[key] = Array.isArray(el) ? ko.observableArray(el) : ko.observable(el);\n",
       "        }\n",
       "        \n",
       "        [this[&quot;formatted_val&quot;]=ko.computed(    function(){\n",
       "        return this.formatted_vals()[parseInt(this.index())-1];\n",
       "    }\n",
       ",this)]\n",
       "        [this[&quot;changes&quot;].subscribe((function (val){!(this.valueFromJulia[&quot;changes&quot;]) ? (WebIO.setval({&quot;name&quot;:&quot;changes&quot;,&quot;scope&quot;:&quot;knockout-component-ee4b5cd4-b88a-4316-9a19-317fbfd72118&quot;,&quot;id&quot;:&quot;ob_02&quot;,&quot;type&quot;:&quot;observable&quot;},val)) : undefined; return this.valueFromJulia[&quot;changes&quot;]=false}),self),this[&quot;indexString&quot;].subscribe((function (val){!(this.valueFromJulia[&quot;indexString&quot;]) ? (WebIO.setval({&quot;name&quot;:&quot;indexString&quot;,&quot;scope&quot;:&quot;knockout-component-ee4b5cd4-b88a-4316-9a19-317fbfd72118&quot;,&quot;id&quot;:&quot;ob_03&quot;,&quot;type&quot;:&quot;observable&quot;},val)) : undefined; return this.valueFromJulia[&quot;indexString&quot;]=false}),self),this[&quot;index&quot;].subscribe((function (val){!(this.valueFromJulia[&quot;index&quot;]) ? (WebIO.setval({&quot;name&quot;:&quot;index&quot;,&quot;scope&quot;:&quot;knockout-component-ee4b5cd4-b88a-4316-9a19-317fbfd72118&quot;,&quot;id&quot;:&quot;ob_01&quot;,&quot;type&quot;:&quot;observable&quot;},val)) : undefined; return this.valueFromJulia[&quot;index&quot;]=false}),self)]\n",
       "                var obs = this.index;\n",
       "    var obsString = this.indexString;\n",
       "    obsString.subscribe(function(value) {\n",
       "        var val = parseFloat(value);\n",
       "        if (!isNaN(val)) {\n",
       "            obs(val);\n",
       "        }\n",
       "    })\n",
       "    obs.subscribe(function(value) {\n",
       "        var str = JSON.stringify(value);\n",
       "        if ((str == &quot;0&quot;) &amp;&amp; ([&quot;-0&quot;, &quot;-0.&quot;].indexOf(obsString()) &gt;= 0))\n",
       "             return;\n",
       "         if ([&quot;null&quot;, &quot;&quot;].indexOf(str) &gt;= 0)\n",
       "             return;\n",
       "        obsString(str);\n",
       "    })\n",
       "\n",
       "    \n",
       "\n",
       "    }\n",
       "    self.model = new AppViewModel();\n",
       "    self.valueFromJulia = {};\n",
       "    for (var key in json_data) {\n",
       "        self.valueFromJulia[key] = false;\n",
       "    }\n",
       "    ko.applyBindings(self.model, self.dom);\n",
       "}\n",
       "]},&quot;changes&quot;:[(function (val){return (val!=this.model[&quot;changes&quot;]()) ? (this.valueFromJulia[&quot;changes&quot;]=true, this.model[&quot;changes&quot;](val)) : undefined})],&quot;indexString&quot;:[(function (val){return (val!=this.model[&quot;indexString&quot;]()) ? (this.valueFromJulia[&quot;indexString&quot;]=true, this.model[&quot;indexString&quot;](val)) : undefined})],&quot;index&quot;:[(function (val){return (val!=this.model[&quot;index&quot;]()) ? (this.valueFromJulia[&quot;index&quot;]=true, this.model[&quot;index&quot;](val)) : undefined})]},&quot;systemjs_options&quot;:null,&quot;observables&quot;:{&quot;changes&quot;:{&quot;sync&quot;:false,&quot;id&quot;:&quot;ob_02&quot;,&quot;value&quot;:0},&quot;indexString&quot;:{&quot;sync&quot;:false,&quot;id&quot;:&quot;ob_03&quot;,&quot;value&quot;:&quot;151&quot;},&quot;index&quot;:{&quot;sync&quot;:true,&quot;id&quot;:&quot;ob_01&quot;,&quot;value&quot;:151}}},&quot;children&quot;:[{&quot;props&quot;:{&quot;className&quot;:&quot;interact-flex-row interact-widget&quot;},&quot;nodeType&quot;:&quot;DOM&quot;,&quot;type&quot;:&quot;node&quot;,&quot;instanceArgs&quot;:{&quot;namespace&quot;:&quot;html&quot;,&quot;tag&quot;:&quot;div&quot;},&quot;children&quot;:[{&quot;props&quot;:{&quot;className&quot;:&quot;interact-flex-row-left&quot;},&quot;nodeType&quot;:&quot;DOM&quot;,&quot;type&quot;:&quot;node&quot;,&quot;instanceArgs&quot;:{&quot;namespace&quot;:&quot;html&quot;,&quot;tag&quot;:&quot;div&quot;},&quot;children&quot;:[{&quot;props&quot;:{&quot;className&quot;:&quot;interact &quot;,&quot;style&quot;:{&quot;padding&quot;:&quot;5px 10px 0px 10px&quot;}},&quot;nodeType&quot;:&quot;DOM&quot;,&quot;type&quot;:&quot;node&quot;,&quot;instanceArgs&quot;:{&quot;namespace&quot;:&quot;html&quot;,&quot;tag&quot;:&quot;label&quot;},&quot;children&quot;:[&quot;frame_index&quot;]}]},{&quot;props&quot;:{&quot;className&quot;:&quot;interact-flex-row-center&quot;},&quot;nodeType&quot;:&quot;DOM&quot;,&quot;type&quot;:&quot;node&quot;,&quot;instanceArgs&quot;:{&quot;namespace&quot;:&quot;html&quot;,&quot;tag&quot;:&quot;div&quot;},&quot;children&quot;:[{&quot;props&quot;:{&quot;max&quot;:301,&quot;min&quot;:1,&quot;attributes&quot;:{&quot;type&quot;:&quot;range&quot;,&quot;data-bind&quot;:&quot;value: indexString, valueUpdate: &#39;input&#39;, event: {change: function (){this.changes(this.changes()+1)}}&quot;,&quot;orient&quot;:&quot;horizontal&quot;},&quot;step&quot;:1,&quot;className&quot;:&quot;slider slider is-fullwidth&quot;,&quot;style&quot;:{}},&quot;nodeType&quot;:&quot;DOM&quot;,&quot;type&quot;:&quot;node&quot;,&quot;instanceArgs&quot;:{&quot;namespace&quot;:&quot;html&quot;,&quot;tag&quot;:&quot;input&quot;},&quot;children&quot;:[]}]},{&quot;props&quot;:{&quot;className&quot;:&quot;interact-flex-row-right&quot;},&quot;nodeType&quot;:&quot;DOM&quot;,&quot;type&quot;:&quot;node&quot;,&quot;instanceArgs&quot;:{&quot;namespace&quot;:&quot;html&quot;,&quot;tag&quot;:&quot;div&quot;},&quot;children&quot;:[{&quot;props&quot;:{&quot;attributes&quot;:{&quot;data-bind&quot;:&quot;text: formatted_val&quot;}},&quot;nodeType&quot;:&quot;DOM&quot;,&quot;type&quot;:&quot;node&quot;,&quot;instanceArgs&quot;:{&quot;namespace&quot;:&quot;html&quot;,&quot;tag&quot;:&quot;p&quot;},&quot;children&quot;:[]}]}]}]}]},{&quot;props&quot;:{},&quot;nodeType&quot;:&quot;Scope&quot;,&quot;type&quot;:&quot;node&quot;,&quot;instanceArgs&quot;:{&quot;imports&quot;:{&quot;data&quot;:[],&quot;type&quot;:&quot;async_block&quot;},&quot;id&quot;:&quot;scope-fbe3518b-3721-4010-b1ea-a1ff39f9047d&quot;,&quot;handlers&quot;:{&quot;obs-output&quot;:[function (updated_htmlstr) {\n",
       "    var el = this.dom.querySelector(&quot;#out&quot;);\n",
       "    WebIO.propUtils.setInnerHtml(el, updated_htmlstr);\n",
       "}]},&quot;systemjs_options&quot;:null,&quot;observables&quot;:{&quot;obs-output&quot;:{&quot;sync&quot;:false,&quot;id&quot;:&quot;ob_07&quot;,&quot;value&quot;:&quot;&lt;div class=&#39;display:none&#39;&gt;&lt;/div&gt;&lt;unsafe-script style=&#39;display:none&#39;&gt;\\nWebIO.mount(this.previousSibling,{&amp;quot;props&amp;quot;:{&amp;quot;className&amp;quot;:&amp;quot;interact-flex-row interact-widget&amp;quot;},&amp;quot;nodeType&amp;quot;:&amp;quot;DOM&amp;quot;,&amp;quot;type&amp;quot;:&amp;quot;node&amp;quot;,&amp;quot;instanceArgs&amp;quot;:{&amp;quot;namespace&amp;quot;:&amp;quot;html&amp;quot;,&amp;quot;tag&amp;quot;:&amp;quot;div&amp;quot;},&amp;quot;children&amp;quot;:[{&amp;quot;props&amp;quot;:{&amp;quot;setInnerHtml&amp;quot;:&amp;quot;&amp;lt;img src=&amp;#39;data:image/png;base64,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&amp;#39;&amp;gt;&amp;lt;/img&amp;gt;&amp;quot;},&amp;quot;nodeType&amp;quot;:&amp;quot;DOM&amp;quot;,&amp;quot;type&amp;quot;:&amp;quot;node&amp;quot;,&amp;quot;instanceArgs&amp;quot;:{&amp;quot;namespace&amp;quot;:&amp;quot;html&amp;quot;,&amp;quot;tag&amp;quot;:&amp;quot;div&amp;quot;},&amp;quot;children&amp;quot;:[]}]})&lt;/unsafe-script&gt;&quot;}}},&quot;children&quot;:[{&quot;props&quot;:{&quot;id&quot;:&quot;out&quot;,&quot;setInnerHtml&quot;:&quot;&lt;div class=&#39;display:none&#39;&gt;&lt;/div&gt;&lt;unsafe-script style=&#39;display:none&#39;&gt;\\nWebIO.mount(this.previousSibling,{&amp;quot;props&amp;quot;:{&amp;quot;className&amp;quot;:&amp;quot;interact-flex-row interact-widget&amp;quot;},&amp;quot;nodeType&amp;quot;:&amp;quot;DOM&amp;quot;,&amp;quot;type&amp;quot;:&amp;quot;node&amp;quot;,&amp;quot;instanceArgs&amp;quot;:{&amp;quot;namespace&amp;quot;:&amp;quot;html&amp;quot;,&amp;quot;tag&amp;quot;:&amp;quot;div&amp;quot;},&amp;quot;children&amp;quot;:[{&amp;quot;props&amp;quot;:{&amp;quot;setInnerHtml&amp;quot;:&amp;quot;&amp;lt;img src=&amp;#39;data:image/png;base64,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&amp;#39;&amp;gt;&amp;lt;/img&amp;gt;&amp;quot;},&amp;quot;nodeType&amp;quot;:&amp;quot;DOM&amp;quot;,&amp;quot;type&amp;quot;:&amp;quot;node&amp;quot;,&amp;quot;instanceArgs&amp;quot;:{&amp;quot;namespace&amp;quot;:&amp;quot;html&amp;quot;,&amp;quot;tag&amp;quot;:&amp;quot;div&amp;quot;},&amp;quot;children&amp;quot;:[]}]})&lt;/unsafe-script&gt;&quot;},&quot;nodeType&quot;:&quot;DOM&quot;,&quot;type&quot;:&quot;node&quot;,&quot;instanceArgs&quot;:{&quot;namespace&quot;:&quot;html&quot;,&quot;tag&quot;:&quot;div&quot;},&quot;children&quot;:[]}]}]})</unsafe-script>"
      ],
      "text/plain": [
       "Node{WebIO.DOM}(WebIO.DOM(:html, :div), Any[Node{DOM}(DOM(:html, :div), Any[Scope(\"knockout-component-ee4b5cd4-b88a-4316-9a19-317fbfd72118\", Node{DOM}(DOM(:html, :div), Any[Node{DOM}(DOM(:html, :div), Any[Node{DOM}(DOM(:html, :label), Any[\"frame_index\"], Dict{Symbol,Any}(:className=>\"interact \",:style=>Dict{Any,Any}(:padding=>\"5px 10px 0px 10px\")), 1)], Dict{Symbol,Any}(:className=>\"interact-flex-row-left\"), 2), Node{DOM}(DOM(:html, :div), Any[Node{DOM}(DOM(:html, :input), Any[], Dict{Symbol,Any}(:max=>301,:min=>1,:attributes=>Dict{Any,Any}(:type=>\"range\",Symbol(\"data-bind\")=>\"value: indexString, valueUpdate: 'input', event: {change: function (){this.changes(this.changes()+1)}}\",\"orient\"=>\"horizontal\"),:step=>1,:className=>\"slider slider is-fullwidth\",:style=>Dict{Any,Any}()), 0)], Dict{Symbol,Any}(:className=>\"interact-flex-row-center\"), 1), Node{DOM}(DOM(:html, :div), Any[Node{DOM}(DOM(:html, :p), Any[], Dict{Symbol,Any}(:attributes=>Dict(\"data-bind\"=>\"text: formatted_val\")), 0)], Dict{Symbol,Any}(:className=>\"interact-flex-row-right\"), 1)], Dict{Symbol,Any}(:className=>\"interact-flex-row interact-widget\"), 7), Dict{String,Tuple{Observables.AbstractObservable,Union{Nothing, Bool}}}(\"changes\"=>(Observable{Int64} with 1 listeners. Value:\n",
       "0, nothing),\"indexString\"=>(Observable{String} with 1 listeners. Value:\n",
       "\"151\", nothing),\"index\"=>(Observable{Int64} with 2 listeners. Value:\n",
       "151, nothing)), Set(String[]), nothing, Any[\"knockout\"=>\"C:\\\\Users\\\\Maxime\\\\.julia\\\\packages\\\\Knockout\\\\fe7U3\\\\src\\\\..\\\\assets\\\\knockout.js\", \"knockout_punches\"=>\"C:\\\\Users\\\\Maxime\\\\.julia\\\\packages\\\\Knockout\\\\fe7U3\\\\src\\\\..\\\\assets\\\\knockout_punches.js\", \"C:\\\\Users\\\\Maxime\\\\.julia\\\\packages\\\\InteractBase\\\\yFw0W\\\\src\\\\..\\\\assets\\\\all.js\", \"C:\\\\Users\\\\Maxime\\\\.julia\\\\packages\\\\InteractBase\\\\yFw0W\\\\src\\\\..\\\\assets\\\\style.css\", \"C:\\\\Users\\\\Maxime\\\\.julia\\\\packages\\\\InteractBulma\\\\PH56C\\\\src\\\\..\\\\assets\\\\main.css\"], Dict{Any,Any}(\"_promises\"=>Dict{Any,Any}(\"importsLoaded\"=>Any[JSString(\"function (ko, koPunches) {\\n    ko.punches.enableAll();\\n    ko.bindingHandlers.numericValue = {\\n        init : function(element, valueAccessor, allBindings, data, context) {\\n            var stringified = ko.observable(ko.unwrap(valueAccessor()));\\n            stringified.subscribe(function(value) {\\n                var val = parseFloat(value);\\n                if (!isNaN(val)) {\\n                    valueAccessor()(val);\\n                }\\n            })\\n            valueAccessor().subscribe(function(value) {\\n                var str = JSON.stringify(value);\\n                if ((str == \\\"0\\\") && ([\\\"-0\\\", \\\"-0.\\\"].indexOf(stringified()) >= 0))\\n                     return;\\n                 if ([\\\"null\\\", \\\"\\\"].indexOf(str) >= 0)\\n                     return;\\n                stringified(str);\\n            })\\n            ko.applyBindingsToNode(element, { value: stringified, valueUpdate: allBindings.get('valueUpdate')}, context);\\n        }\\n    };\\n    var json_data = JSON.parse(\\\"{\\\\\\\"formatted_vals\\\\\\\":[\\\\\\\"1\\\\\\\",\\\\\\\"2\\\\\\\",\\\\\\\"3\\\\\\\",\\\\\\\"4\\\\\\\",\\\\\\\"5\\\\\\\",\\\\\\\"6\\\\\\\",\\\\\\\"7\\\\\\\",\\\\\\\"8\\\\\\\",\\\\\\\"9\\\\\\\",\\\\\\\"10\\\\\\\",\\\\\\\"11\\\\\\\",\\\\\\\"12\\\\\\\",\\\\\\\"13\\\\\\\",\\\\\\\"14\\\\\\\",\\\\\\\"15\\\\\\\",\\\\\\\"16\\\\\\\",\\\\\\\"17\\\\\\\",\\\\\\\"18\\\\\\\",\\\\\\\"19\\\\\\\",\\\\\\\"20\\\\\\\",\\\\\\\"21\\\\\\\",\\\\\\\"22\\\\\\\",\\\\\\\"23\\\\\\\",\\\\\\\"24\\\\\\\",\\\\\\\"25\\\\\\\",\\\\\\\"26\\\\\\\",\\\\\\\"27\\\\\\\",\\\\\\\"28\\\\\\\",\\\\\\\"29\\\\\\\",\\\\\\\"30\\\\\\\",\\\\\\\"31\\\\\\\",\\\\\\\"32\\\\\\\",\\\\\\\"33\\\\\\\",\\\\\\\"34\\\\\\\",\\\\\\\"35\\\\\\\",\\\\\\\"36\\\\\\\",\\\\\\\"37\\\\\\\",\\\\\\\"38\\\\\\\",\\\\\\\"39\\\\\\\",\\\\\\\"40\\\\\\\",\\\\\\\"41\\\\\\\",\\\\\\\"42\\\\\\\",\\\\\\\"43\\\\\\\",\\\\\\\"44\\\\\\\",\\\\\\\"45\\\\\\\",\\\\\\\"46\\\\\\\",\\\\\\\"47\\\\\\\",\\\\\\\"48\\\\\\\",\\\\\\\"49\\\\\\\",\\\\\\\"50\\\\\\\",\\\\\\\"51\\\\\\\",\\\\\\\"52\\\\\\\",\\\\\\\"53\\\\\\\",\\\\\\\"54\\\\\\\",\\\\\\\"55\\\\\\\",\\\\\\\"56\\\\\\\",\\\\\\\"57\\\\\\\",\\\\\\\"58\\\\\\\",\\\\\\\"59\\\\\\\",\\\\\\\"60\\\\\\\",\\\\\\\"61\\\\\\\",\\\\\\\"62\\\\\\\",\\\\\\\"63\\\\\\\",\\\\\\\"64\\\\\\\",\\\\\\\"65\\\\\\\",\\\\\\\"66\\\\\\\",\\\\\\\"67\\\\\\\",\\\\\\\"68\\\\\\\",\\\\\\\"69\\\\\\\",\\\\\\\"70\\\\\\\",\\\\\\\"71\\\\\\\",\\\\\\\"72\\\\\\\",\\\\\\\"73\\\\\\\",\\\\\\\"74\\\\\\\",\\\\\\\"75\\\\\\\",\\\\\\\"76\\\\\\\",\\\\\\\"77\\\\\\\",\\\\\\\"78\\\\\\\",\\\\\\\"79\\\\\\\",\\\\\\\"80\\\\\\\",\\\\\\\"81\\\\\\\",\\\\\\\"82\\\\\\\",\\\\\\\"83\\\\\\\",\\\\\\\"84\\\\\\\",\\\\\\\"85\\\\\\\",\\\\\\\"86\\\\\\\",\\\\\\\"87\\\\\\\",\\\\\\\"88\\\\\\\",\\\\\\\"89\\\\\\\",\\\\\\\"90\\\\\\\",\\\\\\\"91\\\\\\\",\\\\\\\"92\\\\\\\",\\\\\\\"93\\\\\\\",\\\\\\\"94\\\\\\\",\\\\\\\"95\\\\\\\",\\\\\\\"96\\\\\\\",\\\\\\\"97\\\\\\\",\\\\\\\"98\\\\\\\",\\\\\\\"99\\\\\\\",\\\\\\\"100\\\\\\\",\\\\\\\"101\\\\\\\",\\\\\\\"102\\\\\\\",\\\\\\\"103\\\\\\\",\\\\\\\"104\\\\\\\",\\\\\\\"105\\\\\\\",\\\\\\\"106\\\\\\\",\\\\\\\"107\\\\\\\",\\\\\\\"108\\\\\\\",\\\\\\\"109\\\\\\\",\\\\\\\"110\\\\\\\",\\\\\\\"111\\\\\\\",\\\\\\\"112\\\\\\\",\\\\\\\"113\\\\\\\",\\\\\\\"114\\\\\\\",\\\\\\\"115\\\\\\\",\\\\\\\"116\\\\\\\",\\\\\\\"117\\\\\\\",\\\\\\\"118\\\\\\\",\\\\\\\"119\\\\\\\",\\\\\\\"120\\\\\\\",\\\\\\\"121\\\\\\\",\\\\\\\"122\\\\\\\",\\\\\\\"123\\\\\\\",\\\\\\\"124\\\\\\\",\\\\\\\"125\\\\\\\",\\\\\\\"126\\\\\\\",\\\\\\\"127\\\\\\\",\\\\\\\"128\\\\\\\",\\\\\\\"129\\\\\\\",\\\\\\\"130\\\\\\\",\\\\\\\"131\\\\\\\",\\\\\\\"132\\\\\\\",\\\\\\\"133\\\\\\\",\\\\\\\"134\\\\\\\",\\\\\\\"135\\\\\\\",\\\\\\\"136\\\\\\\",\\\\\\\"137\\\\\\\",\\\\\\\"138\\\\\\\",\\\\\\\"139\\\\\\\",\\\\\\\"140\\\\\\\",\\\\\\\"141\\\\\\\",\\\\\\\"142\\\\\\\",\\\\\\\"143\\\\\\\",\\\\\\\"144\\\\\\\",\\\\\\\"145\\\\\\\",\\\\\\\"146\\\\\\\",\\\\\\\"147\\\\\\\",\\\\\\\"148\\\\\\\",\\\\\\\"149\\\\\\\",\\\\\\\"150\\\\\\\",\\\\\\\"151\\\\\\\",\\\\\\\"152\\\\\\\",\\\\\\\"153\\\\\\\",\\\\\\\"154\\\\\\\",\\\\\\\"155\\\\\\\",\\\\\\\"156\\\\\\\",\\\\\\\"157\\\\\\\",\\\\\\\"158\\\\\\\",\\\\\\\"159\\\\\\\",\\\\\\\"160\\\\\\\",\\\\\\\"161\\\\\\\",\\\\\\\"162\\\\\\\",\\\\\\\"163\\\\\\\",\\\\\\\"164\\\\\\\",\\\\\\\"165\\\\\\\",\\\\\\\"166\\\\\\\",\\\\\\\"167\\\\\\\",\\\\\\\"168\\\\\\\",\\\\\\\"169\\\\\\\",\\\\\\\"170\\\\\\\",\\\\\\\"171\\\\\\\",\\\\\\\"172\\\\\\\",\\\\\\\"173\\\\\\\",\\\\\\\"174\\\\\\\",\\\\\\\"175\\\\\\\",\\\\\\\"176\\\\\\\",\\\\\\\"177\\\\\\\",\\\\\\\"178\\\\\\\",\\\\\\\"179\\\\\\\",\\\\\\\"180\\\\\\\",\\\\\\\"181\\\\\\\",\\\\\\\"182\\\\\\\",\\\\\\\"183\\\\\\\",\\\\\\\"184\\\\\\\",\\\\\\\"185\\\\\\\",\\\\\\\"186\\\\\\\",\\\\\\\"187\\\\\\\",\\\\\\\"188\\\\\\\",\\\\\\\"189\\\\\\\",\\\\\\\"190\\\\\\\",\\\\\\\"191\\\\\\\",\\\\\\\"192\\\\\\\",\\\\\\\"193\\\\\\\",\\\\\\\"194\\\\\\\",\\\\\\\"195\\\\\\\",\\\\\\\"196\\\\\\\",\\\\\\\"197\\\\\\\",\\\\\\\"198\\\\\\\",\\\\\\\"199\\\\\\\",\\\\\\\"200\\\\\\\",\\\\\\\"201\\\\\\\",\\\\\\\"202\\\\\\\",\\\\\\\"203\\\\\\\",\\\\\\\"204\\\\\\\",\\\\\\\"205\\\\\\\",\\\\\\\"206\\\\\\\",\\\\\\\"207\\\\\\\",\\\\\\\"208\\\\\\\",\\\\\\\"209\\\\\\\",\\\\\\\"210\\\\\\\",\\\\\\\"211\\\\\\\",\\\\\\\"212\\\\\\\",\\\\\\\"213\\\\\\\",\\\\\\\"214\\\\\\\",\\\\\\\"215\\\\\\\",\\\\\\\"216\\\\\\\",\\\\\\\"217\\\\\\\",\\\\\\\"218\\\\\\\",\\\\\\\"219\\\\\\\",\\\\\\\"220\\\\\\\",\\\\\\\"221\\\\\\\",\\\\\\\"222\\\\\\\",\\\\\\\"223\\\\\\\",\\\\\\\"224\\\\\\\",\\\\\\\"225\\\\\\\",\\\\\\\"226\\\\\\\",\\\\\\\"227\\\\\\\",\\\\\\\"228\\\\\\\",\\\\\\\"229\\\\\\\",\\\\\\\"230\\\\\\\",\\\\\\\"231\\\\\\\",\\\\\\\"232\\\\\\\",\\\\\\\"233\\\\\\\",\\\\\\\"234\\\\\\\",\\\\\\\"235\\\\\\\",\\\\\\\"236\\\\\\\",\\\\\\\"237\\\\\\\",\\\\\\\"238\\\\\\\",\\\\\\\"239\\\\\\\",\\\\\\\"240\\\\\\\",\\\\\\\"241\\\\\\\",\\\\\\\"242\\\\\\\",\\\\\\\"243\\\\\\\",\\\\\\\"244\\\\\\\",\\\\\\\"245\\\\\\\",\\\\\\\"246\\\\\\\",\\\\\\\"247\\\\\\\",\\\\\\\"248\\\\\\\",\\\\\\\"249\\\\\\\",\\\\\\\"250\\\\\\\",\\\\\\\"251\\\\\\\",\\\\\\\"252\\\\\\\",\\\\\\\"253\\\\\\\",\\\\\\\"254\\\\\\\",\\\\\\\"255\\\\\\\",\\\\\\\"256\\\\\\\",\\\\\\\"257\\\\\\\",\\\\\\\"258\\\\\\\",\\\\\\\"259\\\\\\\",\\\\\\\"260\\\\\\\",\\\\\\\"261\\\\\\\",\\\\\\\"262\\\\\\\",\\\\\\\"263\\\\\\\",\\\\\\\"264\\\\\\\",\\\\\\\"265\\\\\\\",\\\\\\\"266\\\\\\\",\\\\\\\"267\\\\\\\",\\\\\\\"268\\\\\\\",\\\\\\\"269\\\\\\\",\\\\\\\"270\\\\\\\",\\\\\\\"271\\\\\\\",\\\\\\\"272\\\\\\\",\\\\\\\"273\\\\\\\",\\\\\\\"274\\\\\\\",\\\\\\\"275\\\\\\\",\\\\\\\"276\\\\\\\",\\\\\\\"277\\\\\\\",\\\\\\\"278\\\\\\\",\\\\\\\"279\\\\\\\",\\\\\\\"280\\\\\\\",\\\\\\\"281\\\\\\\",\\\\\\\"282\\\\\\\",\\\\\\\"283\\\\\\\",\\\\\\\"284\\\\\\\",\\\\\\\"285\\\\\\\",\\\\\\\"286\\\\\\\",\\\\\\\"287\\\\\\\",\\\\\\\"288\\\\\\\",\\\\\\\"289\\\\\\\",\\\\\\\"290\\\\\\\",\\\\\\\"291\\\\\\\",\\\\\\\"292\\\\\\\",\\\\\\\"293\\\\\\\",\\\\\\\"294\\\\\\\",\\\\\\\"295\\\\\\\",\\\\\\\"296\\\\\\\",\\\\\\\"297\\\\\\\",\\\\\\\"298\\\\\\\",\\\\\\\"299\\\\\\\",\\\\\\\"300\\\\\\\",\\\\\\\"301\\\\\\\"],\\\\\\\"changes\\\\\\\":0,\\\\\\\"indexString\\\\\\\":\\\\\\\"151\\\\\\\",\\\\\\\"index\\\\\\\":151}\\\");\\n    var self = this;\\n    function AppViewModel() {\\n        for (var key in json_data) {\\n            var el = json_data[key];\\n            this[key] = Array.isArray(el) ? ko.observableArray(el) : ko.observable(el);\\n        }\\n        \\n        [this[\\\"formatted_val\\\"]=ko.computed(    function(){\\n        return this.formatted_vals()[parseInt(this.index())-1];\\n    }\\n,this)]\\n        [this[\\\"changes\\\"].subscribe((function (val){!(this.valueFromJulia[\\\"changes\\\"]) ? (WebIO.setval({\\\"name\\\":\\\"changes\\\",\\\"scope\\\":\\\"knockout-component-ee4b5cd4-b88a-4316-9a19-317fbfd72118\\\",\\\"id\\\":\\\"ob_02\\\",\\\"type\\\":\\\"observable\\\"},val)) : undefined; return this.valueFromJulia[\\\"changes\\\"]=false}),self),this[\\\"indexString\\\"].subscribe((function (val){!(this.valueFromJulia[\\\"indexString\\\"]) ? (WebIO.setval({\\\"name\\\":\\\"indexString\\\",\\\"scope\\\":\\\"knockout-component-ee4b5cd4-b88a-4316-9a19-317fbfd72118\\\",\\\"id\\\":\\\"ob_03\\\",\\\"type\\\":\\\"observable\\\"},val)) : undefined; return this.valueFromJulia[\\\"indexString\\\"]=false}),self),this[\\\"index\\\"].subscribe((function (val){!(this.valueFromJulia[\\\"index\\\"]) ? (WebIO.setval({\\\"name\\\":\\\"index\\\",\\\"scope\\\":\\\"knockout-component-ee4b5cd4-b88a-4316-9a19-317fbfd72118\\\",\\\"id\\\":\\\"ob_01\\\",\\\"type\\\":\\\"observable\\\"},val)) : undefined; return this.valueFromJulia[\\\"index\\\"]=false}),self)]\\n                var obs = this.index;\\n    var obsString = this.indexString;\\n    obsString.subscribe(function(value) {\\n        var val = parseFloat(value);\\n        if (!isNaN(val)) {\\n            obs(val);\\n        }\\n    })\\n    obs.subscribe(function(value) {\\n        var str = JSON.stringify(value);\\n        if ((str == \\\"0\\\") && ([\\\"-0\\\", \\\"-0.\\\"].indexOf(obsString()) >= 0))\\n             return;\\n         if ([\\\"null\\\", \\\"\\\"].indexOf(str) >= 0)\\n             return;\\n        obsString(str);\\n    })\\n\\n    \\n\\n    }\\n    self.model = new AppViewModel();\\n    self.valueFromJulia = {};\\n    for (var key in json_data) {\\n        self.valueFromJulia[key] = false;\\n    }\\n    ko.applyBindings(self.model, self.dom);\\n}\\n\")]),\"changes\"=>Any[JSString(\"(function (val){return (val!=this.model[\\\"changes\\\"]()) ? (this.valueFromJulia[\\\"changes\\\"]=true, this.model[\\\"changes\\\"](val)) : undefined})\")],\"indexString\"=>Any[JSString(\"(function (val){return (val!=this.model[\\\"indexString\\\"]()) ? (this.valueFromJulia[\\\"indexString\\\"]=true, this.model[\\\"indexString\\\"](val)) : undefined})\")],\"index\"=>Any[JSString(\"(function (val){return (val!=this.model[\\\"index\\\"]()) ? (this.valueFromJulia[\\\"index\\\"]=true, this.model[\\\"index\\\"](val)) : undefined})\")]), ConnectionPool(Channel{Any}(sz_max:9223372036854775807,sz_curr:3), Set(AbstractConnection[]), Channel{AbstractConnection}(sz_max:32,sz_curr:0)))], Dict{Symbol,Any}(:className=>\"field interact-widget\"), 1), Observable{Any} with 0 listeners. Value:\n",
       "Node{DOM}(DOM(:html, :div), Any[CairoSurfaceBase{UInt32}(Ptr{Nothing} @0x0000000024a91090, 1000.0, 600.0)], Dict{Symbol,Any}(:className=>\"interact-flex-row interact-widget\"), 1)], Dict{Symbol,Any}(), 2)"
      ]
     },
     "execution_count": 11,
     "metadata": {},
     "output_type": "execute_result"
    }
   ],
   "source": [
    "using Interact\n",
    "@manipulate for frame_index in 1 : nframes(rec)\n",
    "    render(rec[frame_index-nframes(rec)], env, cam=cam)\n",
    "end"
   ]
  },
  {
   "cell_type": "code",
   "execution_count": null,
   "metadata": {},
   "outputs": [],
   "source": []
  }
 ],
 "metadata": {
  "@webio": {
   "lastCommId": "39b60fed83c3498d86ad2d5e4e64b682",
   "lastKernelId": "668a3582-0e46-4616-82fe-edf71a13d2ed"
  },
  "kernelspec": {
   "display_name": "Julia 1.1.0",
   "language": "julia",
   "name": "julia-1.1"
  },
  "language_info": {
   "file_extension": ".jl",
   "mimetype": "application/julia",
   "name": "julia",
   "version": "1.1.0"
  }
 },
 "nbformat": 4,
 "nbformat_minor": 2
}
